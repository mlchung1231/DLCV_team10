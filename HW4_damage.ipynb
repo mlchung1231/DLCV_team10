{
 "cells": [
  {
   "cell_type": "code",
   "execution_count": null,
   "id": "89f33149",
   "metadata": {},
   "outputs": [
    {
     "name": "stderr",
     "output_type": "stream",
     "text": [
      "Epoch 1/50 [Train]: 100%|██████████| 108/108 [01:22<00:00,  1.31it/s]\n",
      "Epoch 1/50 [Val]: 100%|██████████| 11/11 [00:08<00:00,  1.29it/s]\n"
     ]
    },
    {
     "name": "stdout",
     "output_type": "stream",
     "text": [
      "==========================\n",
      "Epoch 1:\n",
      "Train Loss=0.5236 Acc=0.8151\n",
      "Val   Loss=0.4332 Acc=0.8068 Macro F1=0.2765\n",
      ">> Saved best model (Macro F1)\n",
      "==========================\n"
     ]
    },
    {
     "name": "stderr",
     "output_type": "stream",
     "text": [
      "Epoch 2/50 [Train]: 100%|██████████| 108/108 [01:22<00:00,  1.31it/s]\n",
      "Epoch 2/50 [Val]: 100%|██████████| 11/11 [00:08<00:00,  1.25it/s]\n"
     ]
    },
    {
     "name": "stdout",
     "output_type": "stream",
     "text": [
      "==========================\n",
      "Epoch 2:\n",
      "Train Loss=0.3704 Acc=0.8396\n",
      "Val   Loss=0.3482 Acc=0.8239 Macro F1=0.2851\n",
      ">> Saved best model (Macro F1)\n",
      "==========================\n"
     ]
    },
    {
     "name": "stderr",
     "output_type": "stream",
     "text": [
      "Epoch 3/50 [Train]: 100%|██████████| 108/108 [01:23<00:00,  1.30it/s]\n",
      "Epoch 3/50 [Val]: 100%|██████████| 11/11 [00:08<00:00,  1.26it/s]\n"
     ]
    },
    {
     "name": "stdout",
     "output_type": "stream",
     "text": [
      "==========================\n",
      "Epoch 3:\n",
      "Train Loss=0.3257 Acc=0.8495\n",
      "Val   Loss=0.3239 Acc=0.8428 Macro F1=0.2932\n",
      ">> Saved best model (Macro F1)\n",
      "==========================\n"
     ]
    },
    {
     "name": "stderr",
     "output_type": "stream",
     "text": [
      "Epoch 4/50 [Train]: 100%|██████████| 108/108 [01:23<00:00,  1.29it/s]\n",
      "Epoch 4/50 [Val]: 100%|██████████| 11/11 [00:08<00:00,  1.26it/s]\n"
     ]
    },
    {
     "name": "stdout",
     "output_type": "stream",
     "text": [
      "==========================\n",
      "Epoch 4:\n",
      "Train Loss=0.3010 Acc=0.8605\n",
      "Val   Loss=0.2992 Acc=0.8636 Macro F1=0.3365\n",
      ">> Saved best model (Macro F1)\n",
      "==========================\n"
     ]
    },
    {
     "name": "stderr",
     "output_type": "stream",
     "text": [
      "Epoch 5/50 [Train]: 100%|██████████| 108/108 [01:22<00:00,  1.31it/s]\n",
      "Epoch 5/50 [Val]: 100%|██████████| 11/11 [00:08<00:00,  1.29it/s]\n"
     ]
    },
    {
     "name": "stdout",
     "output_type": "stream",
     "text": [
      "==========================\n",
      "Epoch 5:\n",
      "Train Loss=0.2872 Acc=0.8628\n",
      "Val   Loss=0.2779 Acc=0.8617 Macro F1=0.3762\n",
      ">> Saved best model (Macro F1)\n",
      "==========================\n"
     ]
    },
    {
     "name": "stderr",
     "output_type": "stream",
     "text": [
      "Epoch 6/50 [Train]: 100%|██████████| 108/108 [01:22<00:00,  1.30it/s]\n",
      "Epoch 6/50 [Val]: 100%|██████████| 11/11 [00:08<00:00,  1.29it/s]\n"
     ]
    },
    {
     "name": "stdout",
     "output_type": "stream",
     "text": [
      "==========================\n",
      "Epoch 6:\n",
      "Train Loss=0.2796 Acc=0.8638\n",
      "Val   Loss=0.2708 Acc=0.8636 Macro F1=0.4474\n",
      ">> Saved best model (Macro F1)\n",
      "==========================\n"
     ]
    },
    {
     "name": "stderr",
     "output_type": "stream",
     "text": [
      "Epoch 7/50 [Train]: 100%|██████████| 108/108 [01:23<00:00,  1.30it/s]\n",
      "Epoch 7/50 [Val]: 100%|██████████| 11/11 [00:08<00:00,  1.27it/s]\n"
     ]
    },
    {
     "name": "stdout",
     "output_type": "stream",
     "text": [
      "==========================\n",
      "Epoch 7:\n",
      "Train Loss=0.2544 Acc=0.8718\n",
      "Val   Loss=0.2411 Acc=0.8807 Macro F1=0.4810\n",
      ">> Saved best model (Macro F1)\n",
      "==========================\n"
     ]
    },
    {
     "name": "stderr",
     "output_type": "stream",
     "text": [
      "Epoch 8/50 [Train]: 100%|██████████| 108/108 [01:22<00:00,  1.31it/s]\n",
      "Epoch 8/50 [Val]: 100%|██████████| 11/11 [00:08<00:00,  1.26it/s]\n"
     ]
    },
    {
     "name": "stdout",
     "output_type": "stream",
     "text": [
      "==========================\n",
      "Epoch 8:\n",
      "Train Loss=0.2574 Acc=0.8765\n",
      "Val   Loss=0.2440 Acc=0.8731 Macro F1=0.4470\n"
     ]
    },
    {
     "name": "stderr",
     "output_type": "stream",
     "text": [
      "Epoch 9/50 [Train]: 100%|██████████| 108/108 [01:23<00:00,  1.29it/s]\n",
      "Epoch 9/50 [Val]: 100%|██████████| 11/11 [00:09<00:00,  1.21it/s]\n"
     ]
    },
    {
     "name": "stdout",
     "output_type": "stream",
     "text": [
      "==========================\n",
      "Epoch 9:\n",
      "Train Loss=0.2459 Acc=0.8755\n",
      "Val   Loss=0.2355 Acc=0.8712 Macro F1=0.4794\n"
     ]
    },
    {
     "name": "stderr",
     "output_type": "stream",
     "text": [
      "Epoch 10/50 [Train]: 100%|██████████| 108/108 [01:27<00:00,  1.23it/s]\n",
      "Epoch 10/50 [Val]: 100%|██████████| 11/11 [00:09<00:00,  1.21it/s]\n"
     ]
    },
    {
     "name": "stdout",
     "output_type": "stream",
     "text": [
      "==========================\n",
      "Epoch 10:\n",
      "Train Loss=0.2430 Acc=0.8812\n",
      "Val   Loss=0.2212 Acc=0.8902 Macro F1=0.6152\n",
      ">> Saved best model (Macro F1)\n",
      "==========================\n"
     ]
    },
    {
     "name": "stderr",
     "output_type": "stream",
     "text": [
      "Epoch 11/50 [Train]: 100%|██████████| 108/108 [01:27<00:00,  1.24it/s]\n",
      "Epoch 11/50 [Val]: 100%|██████████| 11/11 [00:09<00:00,  1.21it/s]\n"
     ]
    },
    {
     "name": "stdout",
     "output_type": "stream",
     "text": [
      "==========================\n",
      "Epoch 11:\n",
      "Train Loss=0.2488 Acc=0.8812\n",
      "Val   Loss=0.2095 Acc=0.9034 Macro F1=0.6572\n",
      ">> Saved best model (Macro F1)\n",
      "==========================\n"
     ]
    },
    {
     "name": "stderr",
     "output_type": "stream",
     "text": [
      "Epoch 12/50 [Train]: 100%|██████████| 108/108 [01:27<00:00,  1.24it/s]\n",
      "Epoch 12/50 [Val]: 100%|██████████| 11/11 [00:09<00:00,  1.21it/s]\n"
     ]
    },
    {
     "name": "stdout",
     "output_type": "stream",
     "text": [
      "==========================\n",
      "Epoch 12:\n",
      "Train Loss=0.2350 Acc=0.8858\n",
      "Val   Loss=0.2101 Acc=0.9053 Macro F1=0.6710\n",
      ">> Saved best model (Macro F1)\n",
      "==========================\n"
     ]
    },
    {
     "name": "stderr",
     "output_type": "stream",
     "text": [
      "Epoch 13/50 [Train]: 100%|██████████| 108/108 [01:27<00:00,  1.24it/s]\n",
      "Epoch 13/50 [Val]: 100%|██████████| 11/11 [00:09<00:00,  1.19it/s]\n"
     ]
    },
    {
     "name": "stdout",
     "output_type": "stream",
     "text": [
      "==========================\n",
      "Epoch 13:\n",
      "Train Loss=0.2332 Acc=0.8859\n",
      "Val   Loss=0.2035 Acc=0.9129 Macro F1=0.7242\n",
      ">> Saved best model (Macro F1)\n",
      "==========================\n"
     ]
    },
    {
     "name": "stderr",
     "output_type": "stream",
     "text": [
      "Epoch 14/50 [Train]: 100%|██████████| 108/108 [01:27<00:00,  1.24it/s]\n",
      "Epoch 14/50 [Val]: 100%|██████████| 11/11 [00:09<00:00,  1.20it/s]\n"
     ]
    },
    {
     "name": "stdout",
     "output_type": "stream",
     "text": [
      "==========================\n",
      "Epoch 14:\n",
      "Train Loss=0.2146 Acc=0.8948\n",
      "Val   Loss=0.1890 Acc=0.9167 Macro F1=0.7159\n"
     ]
    },
    {
     "name": "stderr",
     "output_type": "stream",
     "text": [
      "Epoch 15/50 [Train]: 100%|██████████| 108/108 [01:27<00:00,  1.24it/s]\n",
      "Epoch 15/50 [Val]: 100%|██████████| 11/11 [00:09<00:00,  1.22it/s]\n"
     ]
    },
    {
     "name": "stdout",
     "output_type": "stream",
     "text": [
      "==========================\n",
      "Epoch 15:\n",
      "Train Loss=0.2164 Acc=0.9019\n",
      "Val   Loss=0.1906 Acc=0.9129 Macro F1=0.7609\n",
      ">> Saved best model (Macro F1)\n",
      "==========================\n"
     ]
    },
    {
     "name": "stderr",
     "output_type": "stream",
     "text": [
      "Epoch 16/50 [Train]: 100%|██████████| 108/108 [01:26<00:00,  1.24it/s]\n",
      "Epoch 16/50 [Val]: 100%|██████████| 11/11 [00:09<00:00,  1.20it/s]\n"
     ]
    },
    {
     "name": "stdout",
     "output_type": "stream",
     "text": [
      "==========================\n",
      "Epoch 16:\n",
      "Train Loss=0.2218 Acc=0.8924\n",
      "Val   Loss=0.1843 Acc=0.9223 Macro F1=0.7886\n",
      ">> Saved best model (Macro F1)\n",
      "==========================\n"
     ]
    },
    {
     "name": "stderr",
     "output_type": "stream",
     "text": [
      "Epoch 17/50 [Train]: 100%|██████████| 108/108 [01:27<00:00,  1.24it/s]\n",
      "Epoch 17/50 [Val]: 100%|██████████| 11/11 [00:09<00:00,  1.20it/s]\n"
     ]
    },
    {
     "name": "stdout",
     "output_type": "stream",
     "text": [
      "==========================\n",
      "Epoch 17:\n",
      "Train Loss=0.2077 Acc=0.9006\n",
      "Val   Loss=0.1740 Acc=0.9280 Macro F1=0.7937\n",
      ">> Saved best model (Macro F1)\n",
      "==========================\n"
     ]
    },
    {
     "name": "stderr",
     "output_type": "stream",
     "text": [
      "Epoch 18/50 [Train]: 100%|██████████| 108/108 [01:26<00:00,  1.24it/s]\n",
      "Epoch 18/50 [Val]: 100%|██████████| 11/11 [00:09<00:00,  1.20it/s]\n"
     ]
    },
    {
     "name": "stdout",
     "output_type": "stream",
     "text": [
      "==========================\n",
      "Epoch 18:\n",
      "Train Loss=0.2075 Acc=0.8998\n",
      "Val   Loss=0.1636 Acc=0.9375 Macro F1=0.7998\n",
      ">> Saved best model (Macro F1)\n",
      "==========================\n"
     ]
    },
    {
     "name": "stderr",
     "output_type": "stream",
     "text": [
      "Epoch 19/50 [Train]: 100%|██████████| 108/108 [01:26<00:00,  1.24it/s]\n",
      "Epoch 19/50 [Val]: 100%|██████████| 11/11 [00:09<00:00,  1.20it/s]\n"
     ]
    },
    {
     "name": "stdout",
     "output_type": "stream",
     "text": [
      "==========================\n",
      "Epoch 19:\n",
      "Train Loss=0.2091 Acc=0.9052\n",
      "Val   Loss=0.1663 Acc=0.9413 Macro F1=0.8177\n",
      ">> Saved best model (Macro F1)\n",
      "==========================\n"
     ]
    },
    {
     "name": "stderr",
     "output_type": "stream",
     "text": [
      "Epoch 20/50 [Train]: 100%|██████████| 108/108 [01:26<00:00,  1.25it/s]\n",
      "Epoch 20/50 [Val]: 100%|██████████| 11/11 [00:09<00:00,  1.22it/s]\n"
     ]
    },
    {
     "name": "stdout",
     "output_type": "stream",
     "text": [
      "==========================\n",
      "Epoch 20:\n",
      "Train Loss=0.1952 Acc=0.9115\n",
      "Val   Loss=0.1647 Acc=0.9318 Macro F1=0.8151\n"
     ]
    },
    {
     "name": "stderr",
     "output_type": "stream",
     "text": [
      "Epoch 21/50 [Train]: 100%|██████████| 108/108 [01:26<00:00,  1.24it/s]\n",
      "Epoch 21/50 [Val]: 100%|██████████| 11/11 [00:09<00:00,  1.20it/s]\n"
     ]
    },
    {
     "name": "stdout",
     "output_type": "stream",
     "text": [
      "==========================\n",
      "Epoch 21:\n",
      "Train Loss=0.1999 Acc=0.9048\n",
      "Val   Loss=0.1455 Acc=0.9508 Macro F1=0.8487\n",
      ">> Saved best model (Macro F1)\n",
      "==========================\n"
     ]
    },
    {
     "name": "stderr",
     "output_type": "stream",
     "text": [
      "Epoch 22/50 [Train]: 100%|██████████| 108/108 [01:26<00:00,  1.25it/s]\n",
      "Epoch 22/50 [Val]: 100%|██████████| 11/11 [00:09<00:00,  1.19it/s]\n"
     ]
    },
    {
     "name": "stdout",
     "output_type": "stream",
     "text": [
      "==========================\n",
      "Epoch 22:\n",
      "Train Loss=0.1876 Acc=0.9140\n",
      "Val   Loss=0.1376 Acc=0.9527 Macro F1=0.8671\n",
      ">> Saved best model (Macro F1)\n",
      "==========================\n"
     ]
    },
    {
     "name": "stderr",
     "output_type": "stream",
     "text": [
      "Epoch 23/50 [Train]: 100%|██████████| 108/108 [01:27<00:00,  1.24it/s]\n",
      "Epoch 23/50 [Val]: 100%|██████████| 11/11 [00:09<00:00,  1.22it/s]\n"
     ]
    },
    {
     "name": "stdout",
     "output_type": "stream",
     "text": [
      "==========================\n",
      "Epoch 23:\n",
      "Train Loss=0.1999 Acc=0.9130\n",
      "Val   Loss=0.1625 Acc=0.9375 Macro F1=0.8259\n"
     ]
    },
    {
     "name": "stderr",
     "output_type": "stream",
     "text": [
      "Epoch 24/50 [Train]: 100%|██████████| 108/108 [01:26<00:00,  1.25it/s]\n",
      "Epoch 24/50 [Val]: 100%|██████████| 11/11 [00:08<00:00,  1.23it/s]\n"
     ]
    },
    {
     "name": "stdout",
     "output_type": "stream",
     "text": [
      "==========================\n",
      "Epoch 24:\n",
      "Train Loss=0.1840 Acc=0.9184\n",
      "Val   Loss=0.1425 Acc=0.9564 Macro F1=0.8778\n",
      ">> Saved best model (Macro F1)\n",
      "==========================\n"
     ]
    },
    {
     "name": "stderr",
     "output_type": "stream",
     "text": [
      "Epoch 25/50 [Train]: 100%|██████████| 108/108 [01:27<00:00,  1.24it/s]\n",
      "Epoch 25/50 [Val]: 100%|██████████| 11/11 [00:09<00:00,  1.20it/s]\n"
     ]
    },
    {
     "name": "stdout",
     "output_type": "stream",
     "text": [
      "==========================\n",
      "Epoch 25:\n",
      "Train Loss=0.1833 Acc=0.9161\n",
      "Val   Loss=0.1242 Acc=0.9602 Macro F1=0.8689\n"
     ]
    },
    {
     "name": "stderr",
     "output_type": "stream",
     "text": [
      "Epoch 26/50 [Train]: 100%|██████████| 108/108 [01:27<00:00,  1.24it/s]\n",
      "Epoch 26/50 [Val]: 100%|██████████| 11/11 [00:09<00:00,  1.21it/s]\n"
     ]
    },
    {
     "name": "stdout",
     "output_type": "stream",
     "text": [
      "==========================\n",
      "Epoch 26:\n",
      "Train Loss=0.1973 Acc=0.9111\n",
      "Val   Loss=0.1334 Acc=0.9621 Macro F1=0.8829\n",
      ">> Saved best model (Macro F1)\n",
      "==========================\n"
     ]
    },
    {
     "name": "stderr",
     "output_type": "stream",
     "text": [
      "Epoch 27/50 [Train]: 100%|██████████| 108/108 [01:27<00:00,  1.24it/s]\n",
      "Epoch 27/50 [Val]: 100%|██████████| 11/11 [00:09<00:00,  1.21it/s]\n"
     ]
    },
    {
     "name": "stdout",
     "output_type": "stream",
     "text": [
      "==========================\n",
      "Epoch 27:\n",
      "Train Loss=0.1825 Acc=0.9151\n",
      "Val   Loss=0.1222 Acc=0.9659 Macro F1=0.9006\n",
      ">> Saved best model (Macro F1)\n",
      "==========================\n"
     ]
    },
    {
     "name": "stderr",
     "output_type": "stream",
     "text": [
      "Epoch 28/50 [Train]: 100%|██████████| 108/108 [01:26<00:00,  1.24it/s]\n",
      "Epoch 28/50 [Val]: 100%|██████████| 11/11 [00:09<00:00,  1.21it/s]\n"
     ]
    },
    {
     "name": "stdout",
     "output_type": "stream",
     "text": [
      "==========================\n",
      "Epoch 28:\n",
      "Train Loss=0.1859 Acc=0.9182\n",
      "Val   Loss=0.1169 Acc=0.9640 Macro F1=0.8933\n"
     ]
    },
    {
     "name": "stderr",
     "output_type": "stream",
     "text": [
      "Epoch 29/50 [Train]: 100%|██████████| 108/108 [01:26<00:00,  1.24it/s]\n",
      "Epoch 29/50 [Val]: 100%|██████████| 11/11 [00:09<00:00,  1.21it/s]\n"
     ]
    },
    {
     "name": "stdout",
     "output_type": "stream",
     "text": [
      "==========================\n",
      "Epoch 29:\n",
      "Train Loss=0.1673 Acc=0.9291\n",
      "Val   Loss=0.1108 Acc=0.9640 Macro F1=0.8981\n"
     ]
    },
    {
     "name": "stderr",
     "output_type": "stream",
     "text": [
      "Epoch 30/50 [Train]: 100%|██████████| 108/108 [01:26<00:00,  1.24it/s]\n",
      "Epoch 30/50 [Val]: 100%|██████████| 11/11 [00:09<00:00,  1.21it/s]\n"
     ]
    },
    {
     "name": "stdout",
     "output_type": "stream",
     "text": [
      "==========================\n",
      "Epoch 30:\n",
      "Train Loss=0.1626 Acc=0.9292\n",
      "Val   Loss=0.1044 Acc=0.9735 Macro F1=0.9196\n",
      ">> Saved best model (Macro F1)\n",
      "==========================\n"
     ]
    },
    {
     "name": "stderr",
     "output_type": "stream",
     "text": [
      "Epoch 31/50 [Train]: 100%|██████████| 108/108 [01:27<00:00,  1.23it/s]\n",
      "Epoch 31/50 [Val]: 100%|██████████| 11/11 [00:09<00:00,  1.21it/s]\n"
     ]
    },
    {
     "name": "stdout",
     "output_type": "stream",
     "text": [
      "==========================\n",
      "Epoch 31:\n",
      "Train Loss=0.1613 Acc=0.9299\n",
      "Val   Loss=0.0972 Acc=0.9754 Macro F1=0.9153\n"
     ]
    },
    {
     "name": "stderr",
     "output_type": "stream",
     "text": [
      "Epoch 32/50 [Train]: 100%|██████████| 108/108 [01:26<00:00,  1.24it/s]\n",
      "Epoch 32/50 [Val]: 100%|██████████| 11/11 [00:08<00:00,  1.23it/s]\n"
     ]
    },
    {
     "name": "stdout",
     "output_type": "stream",
     "text": [
      "==========================\n",
      "Epoch 32:\n",
      "Train Loss=0.1590 Acc=0.9348\n",
      "Val   Loss=0.1038 Acc=0.9621 Macro F1=0.8985\n"
     ]
    },
    {
     "name": "stderr",
     "output_type": "stream",
     "text": [
      "Epoch 33/50 [Train]: 100%|██████████| 108/108 [01:23<00:00,  1.30it/s]\n",
      "Epoch 33/50 [Val]: 100%|██████████| 11/11 [00:08<00:00,  1.27it/s]\n"
     ]
    },
    {
     "name": "stdout",
     "output_type": "stream",
     "text": [
      "==========================\n",
      "Epoch 33:\n",
      "Train Loss=0.1595 Acc=0.9322\n",
      "Val   Loss=0.0929 Acc=0.9792 Macro F1=0.9322\n",
      ">> Saved best model (Macro F1)\n",
      "==========================\n"
     ]
    },
    {
     "name": "stderr",
     "output_type": "stream",
     "text": [
      "Epoch 34/50 [Train]: 100%|██████████| 108/108 [01:23<00:00,  1.29it/s]\n",
      "Epoch 34/50 [Val]: 100%|██████████| 11/11 [00:08<00:00,  1.26it/s]\n"
     ]
    },
    {
     "name": "stdout",
     "output_type": "stream",
     "text": [
      "==========================\n",
      "Epoch 34:\n",
      "Train Loss=0.1568 Acc=0.9326\n",
      "Val   Loss=0.0895 Acc=0.9811 Macro F1=0.9335\n",
      ">> Saved best model (Macro F1)\n",
      "==========================\n"
     ]
    },
    {
     "name": "stderr",
     "output_type": "stream",
     "text": [
      "Epoch 35/50 [Train]: 100%|██████████| 108/108 [01:22<00:00,  1.31it/s]\n",
      "Epoch 35/50 [Val]: 100%|██████████| 11/11 [00:08<00:00,  1.29it/s]\n"
     ]
    },
    {
     "name": "stdout",
     "output_type": "stream",
     "text": [
      "==========================\n",
      "Epoch 35:\n",
      "Train Loss=0.1441 Acc=0.9414\n",
      "Val   Loss=0.0864 Acc=0.9773 Macro F1=0.9271\n"
     ]
    },
    {
     "name": "stderr",
     "output_type": "stream",
     "text": [
      "Epoch 36/50 [Train]: 100%|██████████| 108/108 [01:25<00:00,  1.26it/s]\n",
      "Epoch 36/50 [Val]: 100%|██████████| 11/11 [00:08<00:00,  1.30it/s]\n"
     ]
    },
    {
     "name": "stdout",
     "output_type": "stream",
     "text": [
      "==========================\n",
      "Epoch 36:\n",
      "Train Loss=0.1518 Acc=0.9334\n",
      "Val   Loss=0.0803 Acc=0.9905 Macro F1=0.9731\n",
      ">> Saved best model (Macro F1)\n",
      "==========================\n"
     ]
    },
    {
     "name": "stderr",
     "output_type": "stream",
     "text": [
      "Epoch 37/50 [Train]: 100%|██████████| 108/108 [01:25<00:00,  1.27it/s]\n",
      "Epoch 37/50 [Val]: 100%|██████████| 11/11 [00:08<00:00,  1.25it/s]\n"
     ]
    },
    {
     "name": "stdout",
     "output_type": "stream",
     "text": [
      "==========================\n",
      "Epoch 37:\n",
      "Train Loss=0.1342 Acc=0.9417\n",
      "Val   Loss=0.0760 Acc=0.9848 Macro F1=0.9526\n"
     ]
    },
    {
     "name": "stderr",
     "output_type": "stream",
     "text": [
      "Epoch 38/50 [Train]: 100%|██████████| 108/108 [01:25<00:00,  1.27it/s]\n",
      "Epoch 38/50 [Val]: 100%|██████████| 11/11 [00:08<00:00,  1.27it/s]\n"
     ]
    },
    {
     "name": "stdout",
     "output_type": "stream",
     "text": [
      "==========================\n",
      "Epoch 38:\n",
      "Train Loss=0.1514 Acc=0.9373\n",
      "Val   Loss=0.0709 Acc=0.9905 Macro F1=0.9731\n"
     ]
    },
    {
     "name": "stderr",
     "output_type": "stream",
     "text": [
      "Epoch 39/50 [Train]: 100%|██████████| 108/108 [01:26<00:00,  1.25it/s]\n",
      "Epoch 39/50 [Val]: 100%|██████████| 11/11 [00:09<00:00,  1.19it/s]\n"
     ]
    },
    {
     "name": "stdout",
     "output_type": "stream",
     "text": [
      "==========================\n",
      "Epoch 39:\n",
      "Train Loss=0.1352 Acc=0.9435\n",
      "Val   Loss=0.0691 Acc=0.9886 Macro F1=0.9718\n"
     ]
    },
    {
     "name": "stderr",
     "output_type": "stream",
     "text": [
      "Epoch 40/50 [Train]: 100%|██████████| 108/108 [01:26<00:00,  1.24it/s]\n",
      "Epoch 40/50 [Val]: 100%|██████████| 11/11 [00:09<00:00,  1.19it/s]\n"
     ]
    },
    {
     "name": "stdout",
     "output_type": "stream",
     "text": [
      "==========================\n",
      "Epoch 40:\n",
      "Train Loss=0.1373 Acc=0.9400\n",
      "Val   Loss=0.0611 Acc=0.9867 Macro F1=0.9419\n"
     ]
    },
    {
     "name": "stderr",
     "output_type": "stream",
     "text": [
      "Epoch 41/50 [Train]: 100%|██████████| 108/108 [01:27<00:00,  1.24it/s]\n",
      "Epoch 41/50 [Val]: 100%|██████████| 11/11 [00:09<00:00,  1.21it/s]\n"
     ]
    },
    {
     "name": "stdout",
     "output_type": "stream",
     "text": [
      "==========================\n",
      "Epoch 41:\n",
      "Train Loss=0.1282 Acc=0.9472\n",
      "Val   Loss=0.0522 Acc=0.9924 Macro F1=0.9685\n"
     ]
    },
    {
     "name": "stderr",
     "output_type": "stream",
     "text": [
      "Epoch 42/50 [Train]: 100%|██████████| 108/108 [01:26<00:00,  1.24it/s]\n",
      "Epoch 42/50 [Val]: 100%|██████████| 11/11 [00:09<00:00,  1.20it/s]\n"
     ]
    },
    {
     "name": "stdout",
     "output_type": "stream",
     "text": [
      "==========================\n",
      "Epoch 42:\n",
      "Train Loss=0.1224 Acc=0.9441\n",
      "Val   Loss=0.0553 Acc=0.9924 Macro F1=0.9672\n",
      ">> Early stopping\n",
      "==========================\n"
     ]
    },
    {
     "data": {
      "image/png": "[encoded data removed]",
      "text/plain": [
       "<Figure size 1000x400 with 2 Axes>"
      ]
     },
     "metadata": {},
     "output_type": "display_data"
    },
    {
     "data": {
      "image/png": "[encoded data removed]",
      "text/plain": [
       "<Figure size 1200x400 with 6 Axes>"
      ]
     },
     "metadata": {},
     "output_type": "display_data"
    },
    {
     "name": "stdout",
     "output_type": "stream",
     "text": [
      "              precision    recall  f1-score   support\n",
      "\n",
      "     Class 0       0.93      0.93      0.93        14\n",
      "     Class 1       1.00      1.00      1.00       125\n",
      "     Class 2       0.97      0.97      0.97        37\n",
      "\n",
      "   micro avg       0.99      0.99      0.99       176\n",
      "   macro avg       0.97      0.97      0.97       176\n",
      "weighted avg       0.99      0.99      0.99       176\n",
      " samples avg       0.99      0.99      0.99       176\n",
      "\n"
     ]
    }
   ],
   "source": [
    "import os\n",
    "import torch\n",
    "import pandas as pd\n",
    "import numpy as np\n",
    "import matplotlib.pyplot as plt\n",
    "from torch import nn, optim\n",
    "from torch.utils.data import Dataset, DataLoader\n",
    "from torchvision import transforms, models\n",
    "from PIL import Image\n",
    "from tqdm import tqdm\n",
    "from sklearn.metrics import multilabel_confusion_matrix, ConfusionMatrixDisplay, classification_report, f1_score\n",
    "\n",
    "# =================== 參數設定 ===================\n",
    "IMG_SIZE = 224\n",
    "NUM_CLASSES = 3\n",
    "DEVICE = torch.device(\"cuda\" if torch.cuda.is_available() else \"cpu\")\n",
    "\n",
    "TRAIN_CSV = \"./damage_detection/3class/for_training/datasets_3class_full_shuffled/train/train_labels.csv\"\n",
    "VAL_CSV   = \"./damage_detection/3class/for_training/datasets_3class_full_shuffled/valid/valid_labels.csv\"\n",
    "TRAIN_IMG_DIR = \"./damage_detection/3class/for_training/datasets_3class_full_shuffled/train/images\"\n",
    "VAL_IMG_DIR   = \"./damage_detection/3class/for_training/datasets_3class_full_shuffled/valid/images\"\n",
    "\n",
    "# =================== 資料集類別 ===================\n",
    "class DamageDataset(Dataset):\n",
    "    def __init__(self, csv_file, image_dir):\n",
    "        self.df = pd.read_csv(csv_file)\n",
    "        self.image_dir = image_dir\n",
    "        self.transform = transforms.Compose([\n",
    "            transforms.Resize((IMG_SIZE, IMG_SIZE)),\n",
    "            transforms.ToTensor()\n",
    "        ])\n",
    "\n",
    "    def __len__(self):\n",
    "        return len(self.df)\n",
    "\n",
    "    def __getitem__(self, idx):\n",
    "        row = self.df.iloc[idx]\n",
    "        image_path = os.path.join(self.image_dir, row[\"filename\"])\n",
    "        image = Image.open(image_path).convert(\"RGB\")\n",
    "        label = torch.tensor(eval(row[\"multi_hot\"]), dtype=torch.float32)\n",
    "        image = self.transform(image)\n",
    "        return image, label\n",
    "\n",
    "# =================== 建立 DataLoader ===================\n",
    "def build_dataloaders(batch_size=16):\n",
    "    train_dataset = DamageDataset(TRAIN_CSV, TRAIN_IMG_DIR)\n",
    "    val_dataset   = DamageDataset(VAL_CSV, VAL_IMG_DIR)\n",
    "\n",
    "    train_loader = DataLoader(train_dataset, batch_size=batch_size, shuffle=True)\n",
    "    val_loader   = DataLoader(val_dataset, batch_size=batch_size, shuffle=False)\n",
    "\n",
    "    return train_loader, val_loader\n",
    "\n",
    "# =================== 建立模型 ===================\n",
    "from torchvision.models import efficientnet_v2_s, EfficientNet_V2_S_Weights\n",
    "\n",
    "def damage_model(num_classes=3, freeze_backbone=True):\n",
    "    weights = EfficientNet_V2_S_Weights.IMAGENET1K_V1\n",
    "    model = efficientnet_v2_s(weights=weights)\n",
    "\n",
    "    in_features = model.classifier[1].in_features\n",
    "\n",
    "    # 替換分類頭\n",
    "    model.classifier = nn.Sequential(\n",
    "        nn.Dropout(p=0.5),\n",
    "        nn.Linear(in_features, 512),\n",
    "        nn.ReLU(),\n",
    "        nn.Dropout(p=0.5),\n",
    "        nn.Linear(512, 128),\n",
    "        nn.ReLU(),\n",
    "        nn.Dropout(p=0.5),\n",
    "        nn.Linear(128, num_classes)\n",
    "    )\n",
    "\n",
    "    if freeze_backbone:\n",
    "        # 凍結所有參數\n",
    "        for param in model.parameters():\n",
    "            param.requires_grad = False\n",
    "\n",
    "        # 解凍分類頭\n",
    "        for param in model.classifier.parameters():\n",
    "            param.requires_grad = True\n",
    "\n",
    "        # 解凍最後一層 block\n",
    "        last_block = model.features[-1]\n",
    "        for param in last_block.parameters():\n",
    "            param.requires_grad = True\n",
    "\n",
    "        # 解凍所有 BatchNorm2d 層\n",
    "        for module in model.modules():\n",
    "            if isinstance(module, nn.BatchNorm2d):\n",
    "                for param in module.parameters():\n",
    "                    param.requires_grad = True\n",
    "\n",
    "    return model, weights.transforms()\n",
    "\n",
    "\n",
    "# =================== 計算準確率 ===================\n",
    "def compute_accuracy(outputs, labels, thr=0.5):\n",
    "    preds = (torch.sigmoid(outputs) > thr).float()\n",
    "    correct_per_class = (preds == labels).float().mean(dim=0)\n",
    "    return correct_per_class.mean().item()\n",
    "\n",
    "def compute_macro_f1(outputs, labels, thr=0.5):\n",
    "    preds = (torch.sigmoid(outputs) > thr).float().cpu().numpy()\n",
    "    labels = labels.cpu().numpy()\n",
    "    return f1_score(labels, preds, average='macro')\n",
    "\n",
    "\n",
    "\n",
    "# =================== 訓練模型 ===================\n",
    "def train_model(model, train_loader, val_loader, epochs=20, lr=1e-4, patience=6):\n",
    "    \n",
    "    criterion = nn.BCEWithLogitsLoss()\n",
    "    optimizer = optim.AdamW(model.parameters(), lr=lr)\n",
    "\n",
    "    best_f1 = 0.0\n",
    "    wait = 0\n",
    "\n",
    "    train_loss_list, val_loss_list = [], []\n",
    "    train_acc_list, val_acc_list = [], []\n",
    "\n",
    "    for epoch in range(epochs):\n",
    "        model.train()\n",
    "        train_loss, train_acc = 0.0, 0.0\n",
    "        for images, labels in tqdm(train_loader, desc=f\"Epoch {epoch+1}/{epochs} [Train]\"):\n",
    "            images, labels = images.to(DEVICE), labels.to(DEVICE)\n",
    "            optimizer.zero_grad()\n",
    "\n",
    "            outputs = model(images)\n",
    "            loss = criterion(outputs, labels)\n",
    "            acc = compute_accuracy(outputs, labels)\n",
    "\n",
    "            loss.backward()\n",
    "            optimizer.step()\n",
    "\n",
    "            train_loss += loss.item()\n",
    "            train_acc += acc\n",
    "\n",
    "        model.eval()\n",
    "        val_loss, val_acc = 0.0, 0.0\n",
    "        all_outputs, all_labels = [], []\n",
    "\n",
    "        with torch.no_grad():\n",
    "            for images, labels in tqdm(val_loader, desc=f\"Epoch {epoch+1}/{epochs} [Val]\"):\n",
    "                images, labels = images.to(DEVICE), labels.to(DEVICE)\n",
    "                outputs = model(images)\n",
    "                loss = criterion(outputs, labels)\n",
    "                acc = compute_accuracy(outputs, labels)\n",
    "\n",
    "                val_loss += loss.item()\n",
    "                val_acc += acc\n",
    "\n",
    "                all_outputs.append(outputs)\n",
    "                all_labels.append(labels)\n",
    "\n",
    "        # 合併整個驗證集的輸出與標籤來計算 macro F1\n",
    "        all_outputs = torch.cat(all_outputs, dim=0)\n",
    "        all_labels = torch.cat(all_labels, dim=0)\n",
    "        macro_f1 = compute_macro_f1(all_outputs, all_labels)\n",
    "\n",
    "        train_loss /= len(train_loader)\n",
    "        train_acc /= len(train_loader)\n",
    "        val_loss /= len(val_loader)\n",
    "        val_acc /= len(val_loader)\n",
    "\n",
    "        print('==========================')\n",
    "        print(f\"Epoch {epoch+1}:\")\n",
    "        print(f\"Train Loss={train_loss:.4f} Acc={train_acc:.4f}\")\n",
    "        print(f\"Val   Loss={val_loss:.4f} Acc={val_acc:.4f} Macro F1={macro_f1:.4f}\")\n",
    "\n",
    "        train_loss_list.append(train_loss)\n",
    "        train_acc_list.append(train_acc)\n",
    "        val_loss_list.append(val_loss)\n",
    "        val_acc_list.append(val_acc)\n",
    "\n",
    "        # 用 Macro F1 儲存模型\n",
    "        if macro_f1 > best_f1:\n",
    "            best_f1 = macro_f1\n",
    "            wait = 0\n",
    "            torch.save(model.state_dict(), \"best_model_damage.pth\")\n",
    "            print(\">> Saved best model (Macro F1)\")\n",
    "            print('==========================')\n",
    "        else:\n",
    "            wait += 1\n",
    "            if wait >= patience:\n",
    "                print(\">> Early stopping\")\n",
    "                print('==========================')\n",
    "                break\n",
    "\n",
    "    return train_loss_list, train_acc_list, val_loss_list, val_acc_list\n",
    "\n",
    "# =================== 畫圖 ===================\n",
    "def plot_history(train_loss, train_acc, val_loss, val_acc):\n",
    "    plt.figure(figsize=(10, 4))\n",
    "    plt.subplot(1, 2, 1)\n",
    "    plt.plot(train_loss, label=\"Train\")\n",
    "    plt.plot(val_loss, label=\"Val\")\n",
    "    plt.title(\"Loss\")\n",
    "    plt.legend()\n",
    "\n",
    "    plt.subplot(1, 2, 2)\n",
    "    plt.plot(train_acc, label=\"Train\")\n",
    "    plt.plot(val_acc, label=\"Val\")\n",
    "    plt.title(\"Accuracy\")\n",
    "    plt.legend()\n",
    "\n",
    "    plt.tight_layout()\n",
    "    plt.show()\n",
    "\n",
    "# =================== 畫混淆矩陣 ===================\n",
    "def show_confusion_matrix(model, val_loader, class_names=None, threshold=0.5):\n",
    "    model.eval()\n",
    "    all_preds = []\n",
    "    all_labels = []\n",
    "    with torch.no_grad():\n",
    "        for images, labels in val_loader:\n",
    "            images = images.to(DEVICE)\n",
    "            outputs = model(images)\n",
    "            probs = torch.sigmoid(outputs)  # 多標籤機率\n",
    "            preds = (probs > threshold).int().cpu().numpy()\n",
    "            targets = labels.int().cpu().numpy()\n",
    "            all_preds.append(preds)\n",
    "            all_labels.append(targets)\n",
    "\n",
    "    all_preds = np.vstack(all_preds)\n",
    "    all_labels = np.vstack(all_labels)\n",
    "\n",
    "    mcm = multilabel_confusion_matrix(all_labels, all_preds)\n",
    "\n",
    "    num_classes = mcm.shape[0]\n",
    "    if class_names is None:\n",
    "        class_names = [f\"Class {i}\" for i in range(num_classes)]\n",
    "\n",
    "    # 畫出每一類的 confusion matrix\n",
    "    fig, axes = plt.subplots(nrows=1, ncols=num_classes, figsize=(4 * num_classes, 4))\n",
    "    if num_classes == 1:\n",
    "        axes = [axes]  # 保持 list 型式\n",
    "\n",
    "    for i in range(num_classes):\n",
    "        cm = mcm[i]\n",
    "        disp = ConfusionMatrixDisplay(confusion_matrix=cm,\n",
    "                                      display_labels=[\"0\", \"1\"])\n",
    "        disp.plot(ax=axes[i], cmap=\"Blues\", values_format='d')\n",
    "        axes[i].set_title(class_names[i])\n",
    "\n",
    "    plt.tight_layout()\n",
    "    plt.show()\n",
    "  \n",
    "    print(classification_report(all_labels, all_preds, target_names=class_names, zero_division=0))\n",
    "\n",
    "\n",
    "\n",
    "\n",
    "train_loader, val_loader = build_dataloaders(batch_size=16)\n",
    "model, preprocess = damage_model(num_classes=3, freeze_backbone=True)\n",
    "model = model.to(DEVICE)\n",
    "train_loss, train_acc, val_loss, val_acc = train_model(model, train_loader, val_loader, epochs=50)\n",
    "plot_history(train_loss, train_acc, val_loss, val_acc)\n",
    "show_confusion_matrix(model, val_loader)\n",
    "\n"
   ]
  }
 ],
 "metadata": {
  "kernelspec": {
   "display_name": "NTU_ML",
   "language": "python",
   "name": "python3"
  },
  "language_info": {
   "codemirror_mode": {
    "name": "ipython",
    "version": 3
   },
   "file_extension": ".py",
   "mimetype": "text/x-python",
   "name": "python",
   "nbconvert_exporter": "python",
   "pygments_lexer": "ipython3",
   "version": "3.10.16"
  }
 },
 "nbformat": 4,
 "nbformat_minor": 5
}
