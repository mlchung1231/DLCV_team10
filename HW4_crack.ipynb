{
 "cells": [
  {
   "cell_type": "code",
   "execution_count": 1,
   "id": "13dfe83e",
   "metadata": {},
   "outputs": [],
   "source": [
    "import os\n",
    "import pandas as pd\n",
    "import numpy as np\n",
    "import random\n",
    "import torch\n",
    "import torch.nn as nn\n",
    "import torch.nn.functional as F  \n",
    "import torch.optim as optim\n",
    "from torch.utils.data import Dataset, DataLoader, Subset\n",
    "import matplotlib.pyplot as plt\n",
    "from tqdm import tqdm\n",
    "from torchvision import datasets\n",
    "import torchvision.transforms as transforms\n",
    "import torchvision.models as models \n",
    "from PIL import ImageOps\n",
    "from torchsummary import summary\n",
    "from collections import Counter\n",
    "import torchvision\n",
    "from sklearn.model_selection import train_test_split\n",
    "from PIL import Image\n",
    "from sklearn.metrics import multilabel_confusion_matrix, ConfusionMatrixDisplay, classification_report, f1_score"
   ]
  },
  {
   "cell_type": "markdown",
   "id": "61095673",
   "metadata": {},
   "source": [
    "## Seeds"
   ]
  },
  {
   "cell_type": "code",
   "execution_count": 2,
   "id": "f93436c5",
   "metadata": {},
   "outputs": [],
   "source": [
    "torch.manual_seed(1220)\n",
    "random.seed(1220)\n",
    "np.random.seed(1220)"
   ]
  },
  {
   "cell_type": "markdown",
   "id": "1d4fd49b",
   "metadata": {},
   "source": [
    "## Some necessary setting"
   ]
  },
  {
   "cell_type": "code",
   "execution_count": 3,
   "id": "fac5e808",
   "metadata": {},
   "outputs": [
    {
     "name": "stdout",
     "output_type": "stream",
     "text": [
      "You are using device: cuda\n",
      "You are using PyTorch version: 2.5.1\n"
     ]
    }
   ],
   "source": [
    "DEVICE = torch.device('cuda' if torch.cuda.is_available() else 'cpu')\n",
    "print(\"You are using device: %s\" % DEVICE)\n",
    "print(\"You are using PyTorch version: %s\" % torch.__version__)\n",
    "CRACK_CLASSES = [\n",
    "    'Diagonal',\n",
    "    'Horizontal',\n",
    "    'Vertical',\n",
    "    'X-shape'\n",
    "]\n",
    "NUM_CLASSES = len(CRACK_CLASSES)"
   ]
  },
  {
   "cell_type": "markdown",
   "id": "0f2b9723",
   "metadata": {},
   "source": [
    "## Data loading and processing"
   ]
  },
  {
   "cell_type": "code",
   "execution_count": 4,
   "id": "bc12c077",
   "metadata": {},
   "outputs": [],
   "source": [
    "class MultiLabel_ImageFolder(torchvision.datasets.ImageFolder):\n",
    "    def __init__(self, root, transform = None, target_transform = None):\n",
    "        super().__init__(root, transform, target_transform)\n",
    "\n",
    "        self.class_to_idx = {cls: i for i, cls in enumerate(CRACK_CLASSES)}\n",
    "        self.classes = CRACK_CLASSES\n",
    "    \n",
    "    def __getitem__(self, index):\n",
    "        img, target = super().__getitem__(index)\n",
    "\n",
    "        muti_hot = torch.zeros(NUM_CLASSES, dtype=torch.float32)\n",
    "        muti_hot[target] = 1.0\n",
    "        \n",
    "        return img, muti_hot\n",
    "\n",
    "def train_transform():\n",
    "    # 多個可選的增強策略（不改變方向）\n",
    "    augmentation_choices = [\n",
    "        transforms.ColorJitter(brightness=0.3, contrast=0.3, saturation=0.3),\n",
    "        transforms.GaussianBlur(kernel_size=(3, 3)),\n",
    "        transforms.RandomAffine(degrees=0, scale=(1.2, 1.5)) ,\n",
    "        transforms.RandomResizedCrop(224, scale=(0.8, 1.0), ratio=(1.0, 1.0)), \n",
    "    ]\n",
    "\n",
    "    chosen_aug = random.choice(augmentation_choices)\n",
    "    \n",
    "    train_df = transforms.Compose([\n",
    "        transforms.Resize((224, 224)),\n",
    "        chosen_aug, \n",
    "        transforms.ToTensor(),\n",
    "        transforms.Normalize((0.5, 0.5, 0.5), (0.5, 0.5, 0.5))\n",
    "        ])\n",
    "\n",
    "    return train_df\n",
    "\n",
    "def val_transform():\n",
    "\n",
    "    val_df = transforms.Compose([\n",
    "        transforms.Resize((224, 224)),\n",
    "        transforms.ToTensor(),\n",
    "        transforms.Normalize((0.5, 0.5, 0.5), (0.5, 0.5, 0.5))\n",
    "    ])\n",
    "\n",
    "    return val_df\n"
   ]
  },
  {
   "cell_type": "code",
   "execution_count": 5,
   "id": "06f1281b",
   "metadata": {},
   "outputs": [
    {
     "name": "stdout",
     "output_type": "stream",
     "text": [
      "每類別資料數量:\n",
      "\n",
      "Diagonal             train: 211 val:  24\n",
      "Horizontal           train: 139 val:  16\n",
      "Vertical             train: 187 val:  21\n",
      "X-shape              train:  95 val:  10\n"
     ]
    }
   ],
   "source": [
    "def load_dataset(path, batch_size = 16):\n",
    "    val_tf = val_transform()\n",
    "\n",
    "    full_dataset = MultiLabel_ImageFolder(root=path, transform=val_tf)\n",
    "\n",
    "    indices = list(range(len(full_dataset)))\n",
    "    single_labels = [torch.argmax(full_dataset[i][1]).item() for i in indices] # 資料分割前label要先轉回整數\n",
    "    train_idx, val_idx = train_test_split(indices, test_size=0.1, stratify=single_labels, random_state=42)\n",
    "\n",
    "    train_set = Subset(full_dataset, train_idx)\n",
    "    val_set = Subset(full_dataset, val_idx)\n",
    "\n",
    "    train_set.dataset.transform = train_transform()\n",
    "    val_set.dataset.transform = val_tf\n",
    "\n",
    "    train_counts = Counter([torch.argmax(train_set[i][1]).item() for i in range(len(train_set))])\n",
    "    val_counts = Counter([torch.argmax(val_set[i][1]).item() for i in range(len(val_set))])\n",
    "    print('每類別資料數量:\\n')\n",
    "    for i, name in enumerate(CRACK_CLASSES):\n",
    "        print(f'{name:<20} train:{train_counts[i]:4d} val:{val_counts[i]:4d}')\n",
    "    \n",
    "    train_loader = DataLoader(train_set, batch_size=batch_size, shuffle=True)\n",
    "    val_loader = DataLoader(val_set, batch_size=batch_size, shuffle=False)\n",
    "\n",
    "    return train_loader, val_loader, single_labels\n",
    "\n",
    "path = \"D:/Deep_Learning homework/finial_competition/crack_classification/resized/column\"\n",
    "train_loader, val_loader, single_labels= load_dataset(path)\n"
   ]
  },
  {
   "cell_type": "markdown",
   "id": "21a9bf4f",
   "metadata": {},
   "source": [
    "## Define Model"
   ]
  },
  {
   "cell_type": "code",
   "execution_count": 6,
   "id": "f23fbf3b",
   "metadata": {},
   "outputs": [],
   "source": [
    "from torchvision.models import vit_l_16, ViT_L_16_Weights\n",
    "\n",
    "def crack_model(num_classes=4, freeze_backbone=True):\n",
    "    weights = ViT_L_16_Weights.IMAGENET1K_SWAG_LINEAR_V1\n",
    "    model = vit_l_16(weights=weights)\n",
    "\n",
    "    in_features = model.heads.head.in_features\n",
    "\n",
    "    # 自定義分類頭\n",
    "    model.heads.head = nn.Sequential(\n",
    "        nn.LayerNorm(in_features),\n",
    "        nn.Dropout(0.5),\n",
    "        nn.Linear(in_features, 512),\n",
    "        nn.ReLU(),\n",
    "        nn.Dropout(0.5),\n",
    "        nn.Linear(512, 128),\n",
    "        nn.ReLU(),\n",
    "        nn.Dropout(0.5),\n",
    "        nn.Linear(128, num_classes)\n",
    "    )\n",
    "\n",
    "    if freeze_backbone:\n",
    "        # 先全部凍結\n",
    "        for param in model.parameters():\n",
    "            param.requires_grad = False\n",
    "\n",
    "        # 解凍分類頭\n",
    "        for param in model.heads.parameters():\n",
    "            param.requires_grad = True\n",
    "\n",
    "        # 解凍最後 3 個 encoder blocks\n",
    "        encoder_blocks = model.encoder.layers  # transformer blocks\n",
    "        for block in encoder_blocks[-2:]:\n",
    "            for param in block.parameters():\n",
    "                param.requires_grad = True\n",
    "\n",
    "        # 解凍所有 LayerNorm 或 normalization 層\n",
    "        for module in model.modules():\n",
    "            if isinstance(module, (nn.LayerNorm, nn.BatchNorm2d)):\n",
    "                for param in module.parameters():\n",
    "                    param.requires_grad = True\n",
    "\n",
    "    return model, weights.transforms()\n",
    "\n",
    "\n",
    "\n",
    "# 使用方式\n",
    "model, preprocess = crack_model(num_classes=4, freeze_backbone=True)\n",
    "model = model.to(DEVICE)\n"
   ]
  },
  {
   "cell_type": "markdown",
   "id": "3d9bdf3b",
   "metadata": {},
   "source": [
    "## Train Model"
   ]
  },
  {
   "cell_type": "code",
   "execution_count": 7,
   "id": "a9e351a7",
   "metadata": {},
   "outputs": [],
   "source": [
    "def compute_accuracy(outputs, labels, thr=0.5):\n",
    "    preds = (torch.sigmoid(outputs) > thr).float()\n",
    "    correct_per_class = (preds == labels).float().mean(dim=0)\n",
    "    return correct_per_class.mean().item()\n",
    "\n",
    "def compute_macro_f1(outputs, labels, thr=0.5):\n",
    "    preds = (torch.sigmoid(outputs) > thr).float().cpu().numpy()\n",
    "    labels = labels.cpu().numpy()\n",
    "    return f1_score(labels, preds, average='macro')"
   ]
  },
  {
   "cell_type": "code",
   "execution_count": 8,
   "id": "80f99738",
   "metadata": {},
   "outputs": [
    {
     "name": "stdout",
     "output_type": "stream",
     "text": [
      "class_counts : [235.0, 155.0, 208.0, 105.0]\n",
      "pos_weight   : [3.4851064682006836, 2.4748387336730957, 3.926682710647583, 9.681904792785645]\n"
     ]
    },
    {
     "name": "stderr",
     "output_type": "stream",
     "text": [
      "Epoch 1/80 [Train]:   0%|          | 0/40 [00:00<?, ?it/s]"
     ]
    },
    {
     "name": "stderr",
     "output_type": "stream",
     "text": [
      "Epoch 1/80 [Train]: 100%|██████████| 40/40 [02:52<00:00,  4.32s/it]\n",
      "Epoch 1/80 [Val]: 100%|██████████| 5/5 [00:09<00:00,  1.92s/it]\n"
     ]
    },
    {
     "name": "stdout",
     "output_type": "stream",
     "text": [
      "==========================\n",
      "Epoch 1:\n",
      "Train Loss=1.2925 Acc=0.5488\n",
      "Val   Loss=1.2480 Acc=0.5612 Macro F1=0.2133\n",
      ">> Saved best model (Macro F1)\n",
      "==========================\n"
     ]
    },
    {
     "name": "stderr",
     "output_type": "stream",
     "text": [
      "Epoch 2/80 [Train]: 100%|██████████| 40/40 [02:50<00:00,  4.25s/it]\n",
      "Epoch 2/80 [Val]: 100%|██████████| 5/5 [00:09<00:00,  1.92s/it]\n"
     ]
    },
    {
     "name": "stdout",
     "output_type": "stream",
     "text": [
      "==========================\n",
      "Epoch 2:\n",
      "Train Loss=1.2732 Acc=0.5316\n",
      "Val   Loss=1.2337 Acc=0.5384 Macro F1=0.2431\n",
      ">> Saved best model (Macro F1)\n",
      "==========================\n"
     ]
    },
    {
     "name": "stderr",
     "output_type": "stream",
     "text": [
      "Epoch 3/80 [Train]: 100%|██████████| 40/40 [02:50<00:00,  4.26s/it]\n",
      "Epoch 3/80 [Val]: 100%|██████████| 5/5 [00:09<00:00,  1.93s/it]\n"
     ]
    },
    {
     "name": "stdout",
     "output_type": "stream",
     "text": [
      "==========================\n",
      "Epoch 3:\n",
      "Train Loss=1.2580 Acc=0.4973\n",
      "Val   Loss=1.2126 Acc=0.4679 Macro F1=0.3376\n",
      ">> Saved best model (Macro F1)\n",
      "==========================\n"
     ]
    },
    {
     "name": "stderr",
     "output_type": "stream",
     "text": [
      "Epoch 4/80 [Train]: 100%|██████████| 40/40 [02:50<00:00,  4.26s/it]\n",
      "Epoch 4/80 [Val]: 100%|██████████| 5/5 [00:09<00:00,  1.92s/it]\n"
     ]
    },
    {
     "name": "stdout",
     "output_type": "stream",
     "text": [
      "==========================\n",
      "Epoch 4:\n",
      "Train Loss=1.2520 Acc=0.4773\n",
      "Val   Loss=1.1892 Acc=0.4049 Macro F1=0.3382\n",
      ">> Saved best model (Macro F1)\n",
      "==========================\n"
     ]
    },
    {
     "name": "stderr",
     "output_type": "stream",
     "text": [
      "Epoch 5/80 [Train]: 100%|██████████| 40/40 [02:50<00:00,  4.25s/it]\n",
      "Epoch 5/80 [Val]: 100%|██████████| 5/5 [00:09<00:00,  1.94s/it]\n"
     ]
    },
    {
     "name": "stdout",
     "output_type": "stream",
     "text": [
      "==========================\n",
      "Epoch 5:\n",
      "Train Loss=1.2156 Acc=0.4516\n",
      "Val   Loss=1.1661 Acc=0.3821 Macro F1=0.3577\n",
      ">> Saved best model (Macro F1)\n",
      "==========================\n"
     ]
    },
    {
     "name": "stderr",
     "output_type": "stream",
     "text": [
      "Epoch 6/80 [Train]: 100%|██████████| 40/40 [02:51<00:00,  4.28s/it]\n",
      "Epoch 6/80 [Val]: 100%|██████████| 5/5 [00:09<00:00,  1.94s/it]\n"
     ]
    },
    {
     "name": "stdout",
     "output_type": "stream",
     "text": [
      "==========================\n",
      "Epoch 6:\n",
      "Train Loss=1.1747 Acc=0.4242\n",
      "Val   Loss=1.1415 Acc=0.3884 Macro F1=0.3819\n",
      ">> Saved best model (Macro F1)\n",
      "==========================\n"
     ]
    },
    {
     "name": "stderr",
     "output_type": "stream",
     "text": [
      "Epoch 7/80 [Train]: 100%|██████████| 40/40 [02:51<00:00,  4.28s/it]\n",
      "Epoch 7/80 [Val]: 100%|██████████| 5/5 [00:09<00:00,  1.93s/it]\n"
     ]
    },
    {
     "name": "stdout",
     "output_type": "stream",
     "text": [
      "==========================\n",
      "Epoch 7:\n",
      "Train Loss=1.1664 Acc=0.4461\n",
      "Val   Loss=1.1017 Acc=0.4286 Macro F1=0.3678\n"
     ]
    },
    {
     "name": "stderr",
     "output_type": "stream",
     "text": [
      "Epoch 8/80 [Train]: 100%|██████████| 40/40 [02:51<00:00,  4.28s/it]\n",
      "Epoch 8/80 [Val]: 100%|██████████| 5/5 [00:09<00:00,  1.93s/it]\n"
     ]
    },
    {
     "name": "stdout",
     "output_type": "stream",
     "text": [
      "==========================\n",
      "Epoch 8:\n",
      "Train Loss=1.1126 Acc=0.5008\n",
      "Val   Loss=1.0569 Acc=0.5366 Macro F1=0.4339\n",
      ">> Saved best model (Macro F1)\n",
      "==========================\n"
     ]
    },
    {
     "name": "stderr",
     "output_type": "stream",
     "text": [
      "Epoch 9/80 [Train]: 100%|██████████| 40/40 [02:52<00:00,  4.32s/it]\n",
      "Epoch 9/80 [Val]: 100%|██████████| 5/5 [00:09<00:00,  1.91s/it]\n"
     ]
    },
    {
     "name": "stdout",
     "output_type": "stream",
     "text": [
      "==========================\n",
      "Epoch 9:\n",
      "Train Loss=1.0567 Acc=0.5828\n",
      "Val   Loss=1.0045 Acc=0.5612 Macro F1=0.5062\n",
      ">> Saved best model (Macro F1)\n",
      "==========================\n"
     ]
    },
    {
     "name": "stderr",
     "output_type": "stream",
     "text": [
      "Epoch 10/80 [Train]: 100%|██████████| 40/40 [02:51<00:00,  4.28s/it]\n",
      "Epoch 10/80 [Val]: 100%|██████████| 5/5 [00:09<00:00,  1.92s/it]\n"
     ]
    },
    {
     "name": "stdout",
     "output_type": "stream",
     "text": [
      "==========================\n",
      "Epoch 10:\n",
      "Train Loss=1.0303 Acc=0.5953\n",
      "Val   Loss=0.9569 Acc=0.6545 Macro F1=0.5660\n",
      ">> Saved best model (Macro F1)\n",
      "==========================\n"
     ]
    },
    {
     "name": "stderr",
     "output_type": "stream",
     "text": [
      "Epoch 11/80 [Train]: 100%|██████████| 40/40 [02:51<00:00,  4.29s/it]\n",
      "Epoch 11/80 [Val]: 100%|██████████| 5/5 [00:09<00:00,  1.95s/it]\n"
     ]
    },
    {
     "name": "stdout",
     "output_type": "stream",
     "text": [
      "==========================\n",
      "Epoch 11:\n",
      "Train Loss=0.9803 Acc=0.6375\n",
      "Val   Loss=0.9485 Acc=0.6616 Macro F1=0.5767\n",
      ">> Saved best model (Macro F1)\n",
      "==========================\n"
     ]
    },
    {
     "name": "stderr",
     "output_type": "stream",
     "text": [
      "Epoch 12/80 [Train]: 100%|██████████| 40/40 [02:53<00:00,  4.33s/it]\n",
      "Epoch 12/80 [Val]: 100%|██████████| 5/5 [00:09<00:00,  1.91s/it]\n"
     ]
    },
    {
     "name": "stdout",
     "output_type": "stream",
     "text": [
      "==========================\n",
      "Epoch 12:\n",
      "Train Loss=0.9093 Acc=0.6727\n",
      "Val   Loss=0.9134 Acc=0.6723 Macro F1=0.5975\n",
      ">> Saved best model (Macro F1)\n",
      "==========================\n"
     ]
    },
    {
     "name": "stderr",
     "output_type": "stream",
     "text": [
      "Epoch 13/80 [Train]: 100%|██████████| 40/40 [02:51<00:00,  4.28s/it]\n",
      "Epoch 13/80 [Val]: 100%|██████████| 5/5 [00:09<00:00,  1.92s/it]\n"
     ]
    },
    {
     "name": "stdout",
     "output_type": "stream",
     "text": [
      "==========================\n",
      "Epoch 13:\n",
      "Train Loss=0.8560 Acc=0.7102\n",
      "Val   Loss=0.8152 Acc=0.7487 Macro F1=0.6411\n",
      ">> Saved best model (Macro F1)\n",
      "==========================\n"
     ]
    },
    {
     "name": "stderr",
     "output_type": "stream",
     "text": [
      "Epoch 14/80 [Train]: 100%|██████████| 40/40 [02:49<00:00,  4.23s/it]\n",
      "Epoch 14/80 [Val]: 100%|██████████| 5/5 [00:09<00:00,  1.88s/it]\n"
     ]
    },
    {
     "name": "stdout",
     "output_type": "stream",
     "text": [
      "==========================\n",
      "Epoch 14:\n",
      "Train Loss=0.7836 Acc=0.7648\n",
      "Val   Loss=0.7497 Acc=0.7705 Macro F1=0.6680\n",
      ">> Saved best model (Macro F1)\n",
      "==========================\n"
     ]
    },
    {
     "name": "stderr",
     "output_type": "stream",
     "text": [
      "Epoch 15/80 [Train]: 100%|██████████| 40/40 [02:48<00:00,  4.20s/it]\n",
      "Epoch 15/80 [Val]: 100%|██████████| 5/5 [00:09<00:00,  1.96s/it]\n"
     ]
    },
    {
     "name": "stdout",
     "output_type": "stream",
     "text": [
      "==========================\n",
      "Epoch 15:\n",
      "Train Loss=0.6938 Acc=0.7957\n",
      "Val   Loss=0.7282 Acc=0.8018 Macro F1=0.6903\n",
      ">> Saved best model (Macro F1)\n",
      "==========================\n"
     ]
    },
    {
     "name": "stderr",
     "output_type": "stream",
     "text": [
      "Epoch 16/80 [Train]: 100%|██████████| 40/40 [02:50<00:00,  4.27s/it]\n",
      "Epoch 16/80 [Val]: 100%|██████████| 5/5 [00:09<00:00,  1.91s/it]\n"
     ]
    },
    {
     "name": "stdout",
     "output_type": "stream",
     "text": [
      "==========================\n",
      "Epoch 16:\n",
      "Train Loss=0.6168 Acc=0.8285\n",
      "Val   Loss=0.6864 Acc=0.8442 Macro F1=0.7263\n",
      ">> Saved best model (Macro F1)\n",
      "==========================\n"
     ]
    },
    {
     "name": "stderr",
     "output_type": "stream",
     "text": [
      "Epoch 17/80 [Train]: 100%|██████████| 40/40 [02:49<00:00,  4.24s/it]\n",
      "Epoch 17/80 [Val]: 100%|██████████| 5/5 [00:09<00:00,  1.87s/it]\n"
     ]
    },
    {
     "name": "stdout",
     "output_type": "stream",
     "text": [
      "==========================\n",
      "Epoch 17:\n",
      "Train Loss=0.6134 Acc=0.8449\n",
      "Val   Loss=0.8479 Acc=0.7777 Macro F1=0.6545\n"
     ]
    },
    {
     "name": "stderr",
     "output_type": "stream",
     "text": [
      "Epoch 18/80 [Train]: 100%|██████████| 40/40 [02:48<00:00,  4.22s/it]\n",
      "Epoch 18/80 [Val]: 100%|██████████| 5/5 [00:09<00:00,  1.88s/it]\n"
     ]
    },
    {
     "name": "stdout",
     "output_type": "stream",
     "text": [
      "==========================\n",
      "Epoch 18:\n",
      "Train Loss=0.5920 Acc=0.8473\n",
      "Val   Loss=0.6880 Acc=0.8598 Macro F1=0.7509\n",
      ">> Saved best model (Macro F1)\n",
      "==========================\n"
     ]
    },
    {
     "name": "stderr",
     "output_type": "stream",
     "text": [
      "Epoch 19/80 [Train]: 100%|██████████| 40/40 [02:48<00:00,  4.21s/it]\n",
      "Epoch 19/80 [Val]: 100%|██████████| 5/5 [00:09<00:00,  1.87s/it]\n"
     ]
    },
    {
     "name": "stdout",
     "output_type": "stream",
     "text": [
      "==========================\n",
      "Epoch 19:\n",
      "Train Loss=0.5024 Acc=0.8824\n",
      "Val   Loss=0.6667 Acc=0.8763 Macro F1=0.7657\n",
      ">> Saved best model (Macro F1)\n",
      "==========================\n"
     ]
    },
    {
     "name": "stderr",
     "output_type": "stream",
     "text": [
      "Epoch 20/80 [Train]: 100%|██████████| 40/40 [02:50<00:00,  4.25s/it]\n",
      "Epoch 20/80 [Val]: 100%|██████████| 5/5 [00:09<00:00,  1.90s/it]\n"
     ]
    },
    {
     "name": "stdout",
     "output_type": "stream",
     "text": [
      "==========================\n",
      "Epoch 20:\n",
      "Train Loss=0.4452 Acc=0.9059\n",
      "Val   Loss=0.6706 Acc=0.8567 Macro F1=0.7359\n"
     ]
    },
    {
     "name": "stderr",
     "output_type": "stream",
     "text": [
      "Epoch 21/80 [Train]: 100%|██████████| 40/40 [02:52<00:00,  4.30s/it]\n",
      "Epoch 21/80 [Val]: 100%|██████████| 5/5 [00:09<00:00,  1.86s/it]\n"
     ]
    },
    {
     "name": "stdout",
     "output_type": "stream",
     "text": [
      "==========================\n",
      "Epoch 21:\n",
      "Train Loss=0.4054 Acc=0.9219\n",
      "Val   Loss=0.7688 Acc=0.8598 Macro F1=0.7529\n"
     ]
    },
    {
     "name": "stderr",
     "output_type": "stream",
     "text": [
      "Epoch 22/80 [Train]: 100%|██████████| 40/40 [02:45<00:00,  4.13s/it]\n",
      "Epoch 22/80 [Val]: 100%|██████████| 5/5 [00:09<00:00,  1.85s/it]\n"
     ]
    },
    {
     "name": "stdout",
     "output_type": "stream",
     "text": [
      "==========================\n",
      "Epoch 22:\n",
      "Train Loss=0.4037 Acc=0.9191\n",
      "Val   Loss=0.6696 Acc=0.8826 Macro F1=0.7714\n",
      ">> Saved best model (Macro F1)\n",
      "==========================\n"
     ]
    },
    {
     "name": "stderr",
     "output_type": "stream",
     "text": [
      "Epoch 23/80 [Train]: 100%|██████████| 40/40 [02:45<00:00,  4.13s/it]\n",
      "Epoch 23/80 [Val]: 100%|██████████| 5/5 [00:09<00:00,  1.86s/it]\n"
     ]
    },
    {
     "name": "stdout",
     "output_type": "stream",
     "text": [
      "==========================\n",
      "Epoch 23:\n",
      "Train Loss=0.3477 Acc=0.9434\n",
      "Val   Loss=0.7117 Acc=0.8763 Macro F1=0.7620\n"
     ]
    },
    {
     "name": "stderr",
     "output_type": "stream",
     "text": [
      "Epoch 24/80 [Train]: 100%|██████████| 40/40 [02:45<00:00,  4.13s/it]\n",
      "Epoch 24/80 [Val]: 100%|██████████| 5/5 [00:09<00:00,  1.86s/it]\n"
     ]
    },
    {
     "name": "stdout",
     "output_type": "stream",
     "text": [
      "==========================\n",
      "Epoch 24:\n",
      "Train Loss=0.5589 Acc=0.8777\n",
      "Val   Loss=0.5882 Acc=0.8826 Macro F1=0.7809\n",
      ">> Saved best model (Macro F1)\n",
      "==========================\n"
     ]
    },
    {
     "name": "stderr",
     "output_type": "stream",
     "text": [
      "Epoch 25/80 [Train]: 100%|██████████| 40/40 [02:45<00:00,  4.13s/it]\n",
      "Epoch 25/80 [Val]: 100%|██████████| 5/5 [00:09<00:00,  1.86s/it]\n"
     ]
    },
    {
     "name": "stdout",
     "output_type": "stream",
     "text": [
      "==========================\n",
      "Epoch 25:\n",
      "Train Loss=0.3924 Acc=0.9250\n",
      "Val   Loss=0.6216 Acc=0.8763 Macro F1=0.7605\n"
     ]
    },
    {
     "name": "stderr",
     "output_type": "stream",
     "text": [
      "Epoch 26/80 [Train]: 100%|██████████| 40/40 [02:45<00:00,  4.13s/it]\n",
      "Epoch 26/80 [Val]: 100%|██████████| 5/5 [00:09<00:00,  1.85s/it]\n"
     ]
    },
    {
     "name": "stdout",
     "output_type": "stream",
     "text": [
      "==========================\n",
      "Epoch 26:\n",
      "Train Loss=0.3033 Acc=0.9457\n",
      "Val   Loss=0.6605 Acc=0.8732 Macro F1=0.7478\n"
     ]
    },
    {
     "name": "stderr",
     "output_type": "stream",
     "text": [
      "Epoch 27/80 [Train]: 100%|██████████| 40/40 [02:44<00:00,  4.12s/it]\n",
      "Epoch 27/80 [Val]: 100%|██████████| 5/5 [00:09<00:00,  1.85s/it]\n"
     ]
    },
    {
     "name": "stdout",
     "output_type": "stream",
     "text": [
      "==========================\n",
      "Epoch 27:\n",
      "Train Loss=0.2761 Acc=0.9598\n",
      "Val   Loss=0.6812 Acc=0.8763 Macro F1=0.7570\n"
     ]
    },
    {
     "name": "stderr",
     "output_type": "stream",
     "text": [
      "Epoch 28/80 [Train]: 100%|██████████| 40/40 [02:44<00:00,  4.12s/it]\n",
      "Epoch 28/80 [Val]: 100%|██████████| 5/5 [00:09<00:00,  1.85s/it]\n"
     ]
    },
    {
     "name": "stdout",
     "output_type": "stream",
     "text": [
      "==========================\n",
      "Epoch 28:\n",
      "Train Loss=0.2562 Acc=0.9648\n",
      "Val   Loss=0.7340 Acc=0.8763 Macro F1=0.7630\n"
     ]
    },
    {
     "name": "stderr",
     "output_type": "stream",
     "text": [
      "Epoch 29/80 [Train]: 100%|██████████| 40/40 [02:44<00:00,  4.12s/it]\n",
      "Epoch 29/80 [Val]: 100%|██████████| 5/5 [00:09<00:00,  1.86s/it]\n"
     ]
    },
    {
     "name": "stdout",
     "output_type": "stream",
     "text": [
      "==========================\n",
      "Epoch 29:\n",
      "Train Loss=0.2341 Acc=0.9672\n",
      "Val   Loss=0.7175 Acc=0.8888 Macro F1=0.7928\n",
      ">> Saved best model (Macro F1)\n",
      "==========================\n"
     ]
    },
    {
     "name": "stderr",
     "output_type": "stream",
     "text": [
      "Epoch 30/80 [Train]: 100%|██████████| 40/40 [02:44<00:00,  4.12s/it]\n",
      "Epoch 30/80 [Val]: 100%|██████████| 5/5 [00:09<00:00,  1.85s/it]\n"
     ]
    },
    {
     "name": "stdout",
     "output_type": "stream",
     "text": [
      "==========================\n",
      "Epoch 30:\n",
      "Train Loss=0.2083 Acc=0.9773\n",
      "Val   Loss=0.6897 Acc=0.8888 Macro F1=0.7879\n"
     ]
    },
    {
     "name": "stderr",
     "output_type": "stream",
     "text": [
      "Epoch 31/80 [Train]: 100%|██████████| 40/40 [02:45<00:00,  4.13s/it]\n",
      "Epoch 31/80 [Val]: 100%|██████████| 5/5 [00:09<00:00,  1.86s/it]\n"
     ]
    },
    {
     "name": "stdout",
     "output_type": "stream",
     "text": [
      "==========================\n",
      "Epoch 31:\n",
      "Train Loss=0.1969 Acc=0.9805\n",
      "Val   Loss=0.7648 Acc=0.8888 Macro F1=0.7815\n"
     ]
    },
    {
     "name": "stderr",
     "output_type": "stream",
     "text": [
      "Epoch 32/80 [Train]: 100%|██████████| 40/40 [02:44<00:00,  4.12s/it]\n",
      "Epoch 32/80 [Val]: 100%|██████████| 5/5 [00:09<00:00,  1.86s/it]\n"
     ]
    },
    {
     "name": "stdout",
     "output_type": "stream",
     "text": [
      "==========================\n",
      "Epoch 32:\n",
      "Train Loss=0.1651 Acc=0.9863\n",
      "Val   Loss=0.7892 Acc=0.8795 Macro F1=0.7616\n"
     ]
    },
    {
     "name": "stderr",
     "output_type": "stream",
     "text": [
      "Epoch 33/80 [Train]: 100%|██████████| 40/40 [02:44<00:00,  4.12s/it]\n",
      "Epoch 33/80 [Val]: 100%|██████████| 5/5 [00:09<00:00,  1.86s/it]\n"
     ]
    },
    {
     "name": "stdout",
     "output_type": "stream",
     "text": [
      "==========================\n",
      "Epoch 33:\n",
      "Train Loss=0.1710 Acc=0.9855\n",
      "Val   Loss=0.7917 Acc=0.8795 Macro F1=0.7593\n"
     ]
    },
    {
     "name": "stderr",
     "output_type": "stream",
     "text": [
      "Epoch 34/80 [Train]: 100%|██████████| 40/40 [02:44<00:00,  4.12s/it]\n",
      "Epoch 34/80 [Val]: 100%|██████████| 5/5 [00:09<00:00,  1.86s/it]\n"
     ]
    },
    {
     "name": "stdout",
     "output_type": "stream",
     "text": [
      "==========================\n",
      "Epoch 34:\n",
      "Train Loss=0.1519 Acc=0.9867\n",
      "Val   Loss=0.8109 Acc=0.8795 Macro F1=0.7659\n"
     ]
    },
    {
     "name": "stderr",
     "output_type": "stream",
     "text": [
      "Epoch 35/80 [Train]: 100%|██████████| 40/40 [02:45<00:00,  4.14s/it]\n",
      "Epoch 35/80 [Val]: 100%|██████████| 5/5 [00:09<00:00,  1.89s/it]\n"
     ]
    },
    {
     "name": "stdout",
     "output_type": "stream",
     "text": [
      "==========================\n",
      "Epoch 35:\n",
      "Train Loss=0.1472 Acc=0.9898\n",
      "Val   Loss=0.8300 Acc=0.8857 Macro F1=0.7786\n"
     ]
    },
    {
     "name": "stderr",
     "output_type": "stream",
     "text": [
      "Epoch 36/80 [Train]: 100%|██████████| 40/40 [03:04<00:00,  4.61s/it]\n",
      "Epoch 36/80 [Val]: 100%|██████████| 5/5 [00:13<00:00,  2.65s/it]"
     ]
    },
    {
     "name": "stdout",
     "output_type": "stream",
     "text": [
      "==========================\n",
      "Epoch 36:\n",
      "Train Loss=0.1404 Acc=0.9898\n",
      "Val   Loss=0.8533 Acc=0.8857 Macro F1=0.7783\n",
      ">> Early stopping\n",
      "==========================\n"
     ]
    },
    {
     "name": "stderr",
     "output_type": "stream",
     "text": [
      "\n"
     ]
    }
   ],
   "source": [
    "def train_model(model, train_loader, val_loader, epochs=20, lr=1e-5, patience=7):\n",
    "    FACTORS = torch.tensor([1.75, 0.7, 1.65, 1.7])\n",
    "    counts = Counter(single_labels)\n",
    "    class_counts = torch.tensor([counts[i] for i in range(NUM_CLASSES)], dtype=torch.float32)\n",
    "    total = class_counts.sum()\n",
    "    pos_weight = (total - class_counts) / class_counts\n",
    "    pos_weight = (pos_weight * FACTORS).to(DEVICE)\n",
    "\n",
    "    print(\"class_counts :\", class_counts.tolist())\n",
    "    print(\"pos_weight   :\", pos_weight.tolist())\n",
    "\n",
    "    criterion = nn.BCEWithLogitsLoss(pos_weight=pos_weight)\n",
    "    optimizer = optim.AdamW(model.parameters(), lr=lr)\n",
    "    scheduler = torch.optim.lr_scheduler.OneCycleLR(\n",
    "        optimizer,\n",
    "        max_lr=lr,\n",
    "        epochs=epochs,\n",
    "        steps_per_epoch=len(train_loader),\n",
    "        pct_start=0.2,\n",
    "        div_factor=25,\n",
    "        final_div_factor=1e4\n",
    "    )\n",
    "\n",
    "    best_f1 = 0.0\n",
    "    wait = 0\n",
    "\n",
    "    train_loss_list, val_loss_list = [], []\n",
    "    train_acc_list, val_acc_list = [], []\n",
    "\n",
    "    for epoch in range(epochs):\n",
    "        model.train()\n",
    "        train_loss, train_acc = 0.0, 0.0\n",
    "        for images, labels in tqdm(train_loader, desc=f\"Epoch {epoch+1}/{epochs} [Train]\"):\n",
    "            images, labels = images.to(DEVICE), labels.to(DEVICE)\n",
    "            optimizer.zero_grad()\n",
    "\n",
    "            outputs = model(images)\n",
    "            loss = criterion(outputs, labels)\n",
    "            acc = compute_accuracy(outputs, labels)\n",
    "\n",
    "            loss.backward()\n",
    "            optimizer.step()\n",
    "            scheduler.step()\n",
    "\n",
    "            train_loss += loss.item()\n",
    "            train_acc += acc\n",
    "\n",
    "        model.eval()\n",
    "        val_loss, val_acc = 0.0, 0.0\n",
    "        all_outputs, all_labels = [], []\n",
    "\n",
    "        with torch.no_grad():\n",
    "            for images, labels in tqdm(val_loader, desc=f\"Epoch {epoch+1}/{epochs} [Val]\"):\n",
    "                images, labels = images.to(DEVICE), labels.to(DEVICE)\n",
    "                outputs = model(images)\n",
    "                loss = criterion(outputs, labels)\n",
    "                acc = compute_accuracy(outputs, labels)\n",
    "\n",
    "                val_loss += loss.item()\n",
    "                val_acc += acc\n",
    "\n",
    "                all_outputs.append(outputs)\n",
    "                all_labels.append(labels)\n",
    "\n",
    "        # 合併整個驗證集的輸出與標籤來計算 macro F1\n",
    "        all_outputs = torch.cat(all_outputs, dim=0)\n",
    "        all_labels = torch.cat(all_labels, dim=0)\n",
    "        macro_f1 = compute_macro_f1(all_outputs, all_labels)\n",
    "\n",
    "        train_loss /= len(train_loader)\n",
    "        train_acc /= len(train_loader)\n",
    "        val_loss /= len(val_loader)\n",
    "        val_acc /= len(val_loader)\n",
    "\n",
    "        print('==========================')\n",
    "        print(f\"Epoch {epoch+1}:\")\n",
    "        print(f\"Train Loss={train_loss:.4f} Acc={train_acc:.4f}\")\n",
    "        print(f\"Val   Loss={val_loss:.4f} Acc={val_acc:.4f} Macro F1={macro_f1:.4f}\")\n",
    "\n",
    "        train_loss_list.append(train_loss)\n",
    "        train_acc_list.append(train_acc)\n",
    "        val_loss_list.append(val_loss)\n",
    "        val_acc_list.append(val_acc)\n",
    "\n",
    "        # 用 Macro F1 儲存模型\n",
    "        if macro_f1 > best_f1:\n",
    "            best_f1 = macro_f1\n",
    "            wait = 0\n",
    "            torch.save(model.state_dict(), \"best_model_crack.pth\")\n",
    "            print(\">> Saved best model (Macro F1)\")\n",
    "            print('==========================')\n",
    "        else:\n",
    "            wait += 1\n",
    "            if wait >= patience:\n",
    "                print(\">> Early stopping\")\n",
    "                print('==========================')\n",
    "                break\n",
    "\n",
    "    return train_loss_list, train_acc_list, val_loss_list, val_acc_list\n",
    "\n",
    "\n",
    "train_loss, train_acc, val_loss, val_acc = train_model(model, train_loader, val_loader, epochs=80)\n"
   ]
  },
  {
   "cell_type": "code",
   "execution_count": 9,
   "id": "b54b8b41",
   "metadata": {},
   "outputs": [
    {
     "data": {
      "image/png": "[encoded data removed]",
      "text/plain": [
       "<Figure size 1000x400 with 2 Axes>"
      ]
     },
     "metadata": {},
     "output_type": "display_data"
    }
   ],
   "source": [
    "def plot_history(train_loss, train_acc, val_loss, val_acc):\n",
    "    plt.figure(figsize=(10, 4))\n",
    "    plt.subplot(1, 2, 1)\n",
    "    plt.plot(train_loss, label=\"Train\")\n",
    "    plt.plot(val_loss, label=\"Val\")\n",
    "    plt.title(\"Loss\")\n",
    "    plt.legend()\n",
    "\n",
    "    plt.subplot(1, 2, 2)\n",
    "    plt.plot(train_acc, label=\"Train\")\n",
    "    plt.plot(val_acc, label=\"Val\")\n",
    "    plt.title(\"Accuracy\")\n",
    "    plt.legend()\n",
    "\n",
    "    plt.tight_layout()\n",
    "    plt.show()\n",
    "    \n",
    "plot_history(train_loss, train_acc, val_loss, val_acc)"
   ]
  },
  {
   "cell_type": "code",
   "execution_count": 10,
   "id": "c3325874",
   "metadata": {},
   "outputs": [
    {
     "data": {
      "image/png": "[encoded data removed]",
      "text/plain": [
       "<Figure size 1600x400 with 8 Axes>"
      ]
     },
     "metadata": {},
     "output_type": "display_data"
    },
    {
     "name": "stdout",
     "output_type": "stream",
     "text": [
      "              precision    recall  f1-score   support\n",
      "\n",
      "     Class 0       0.60      1.00      0.75        24\n",
      "     Class 1       1.00      0.81      0.90        16\n",
      "     Class 2       0.92      0.52      0.67        21\n",
      "     Class 3       0.80      0.80      0.80        10\n",
      "\n",
      "   micro avg       0.75      0.79      0.77        71\n",
      "   macro avg       0.83      0.78      0.78        71\n",
      "weighted avg       0.81      0.79      0.77        71\n",
      " samples avg       0.76      0.79      0.77        71\n",
      "\n"
     ]
    }
   ],
   "source": [
    "def show_confusion_matrix(model, val_loader, class_names=None, threshold=0.5):\n",
    "    model.eval()\n",
    "    all_preds = []\n",
    "    all_labels = []\n",
    "    with torch.no_grad():\n",
    "        for images, labels in val_loader:\n",
    "            images = images.to(DEVICE)\n",
    "            outputs = model(images)\n",
    "            probs = torch.sigmoid(outputs)  # 多標籤機率\n",
    "            preds = (probs > threshold).int().cpu().numpy()\n",
    "            targets = labels.int().cpu().numpy()\n",
    "            all_preds.append(preds)\n",
    "            all_labels.append(targets)\n",
    "\n",
    "    all_preds = np.vstack(all_preds)\n",
    "    all_labels = np.vstack(all_labels)\n",
    "\n",
    "    mcm = multilabel_confusion_matrix(all_labels, all_preds)\n",
    "\n",
    "    num_classes = mcm.shape[0]\n",
    "    if class_names is None:\n",
    "        class_names = [f\"Class {i}\" for i in range(num_classes)]\n",
    "\n",
    "    # 畫出每一類的 confusion matrix\n",
    "    fig, axes = plt.subplots(nrows=1, ncols=num_classes, figsize=(4 * num_classes, 4))\n",
    "    if num_classes == 1:\n",
    "        axes = [axes]  # 保持 list 型式\n",
    "\n",
    "    for i in range(num_classes):\n",
    "        cm = mcm[i]\n",
    "        disp = ConfusionMatrixDisplay(confusion_matrix=cm,\n",
    "                                      display_labels=[\"0\", \"1\"])\n",
    "        disp.plot(ax=axes[i], cmap=\"Blues\", values_format='d')\n",
    "        axes[i].set_title(class_names[i])\n",
    "\n",
    "    plt.tight_layout()\n",
    "    plt.show()\n",
    "    print(classification_report(all_labels, all_preds, target_names=class_names, zero_division=0))\n",
    "    \n",
    "show_confusion_matrix(model, val_loader)"
   ]
  }
 ],
 "metadata": {
  "kernelspec": {
   "display_name": "NTU_ML",
   "language": "python",
   "name": "python3"
  },
  "language_info": {
   "codemirror_mode": {
    "name": "ipython",
    "version": 3
   },
   "file_extension": ".py",
   "mimetype": "text/x-python",
   "name": "python",
   "nbconvert_exporter": "python",
   "pygments_lexer": "ipython3",
   "version": "3.10.16"
  }
 },
 "nbformat": 4,
 "nbformat_minor": 5
}
