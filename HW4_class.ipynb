{
 "cells": [
  {
   "cell_type": "markdown",
   "id": "4082f172",
   "metadata": {},
   "source": [
    "# Import Library"
   ]
  },
  {
   "cell_type": "code",
   "execution_count": 1,
   "id": "ea045235",
   "metadata": {},
   "outputs": [],
   "source": [
    "import os\n",
    "import pandas as pd\n",
    "import numpy as np\n",
    "import random\n",
    "import torch\n",
    "import torch.nn as nn\n",
    "import torch.nn.functional as F  \n",
    "import torch.optim as optim\n",
    "from torch.utils.data import Dataset, DataLoader, Subset\n",
    "import matplotlib.pyplot as plt\n",
    "from tqdm import tqdm\n",
    "from torchvision import datasets\n",
    "import torchvision.transforms as transforms\n",
    "import torchvision.models as models \n",
    "from PIL import ImageOps\n",
    "from torchsummary import summary\n",
    "from collections import Counter\n",
    "import torchvision\n",
    "from sklearn.model_selection import train_test_split\n",
    "from PIL import Image\n"
   ]
  },
  {
   "cell_type": "markdown",
   "id": "f8dba4ea",
   "metadata": {},
   "source": [
    "# Seeds"
   ]
  },
  {
   "cell_type": "code",
   "execution_count": 2,
   "id": "e022177b",
   "metadata": {},
   "outputs": [],
   "source": [
    "# For reproduce the result\n",
    "torch.manual_seed(1220)\n",
    "random.seed(1220)\n",
    "np.random.seed(1220)"
   ]
  },
  {
   "cell_type": "markdown",
   "id": "ed0edeb0",
   "metadata": {},
   "source": [
    "# Some necessary settings"
   ]
  },
  {
   "cell_type": "code",
   "execution_count": null,
   "id": "914eba24",
   "metadata": {},
   "outputs": [
    {
     "name": "stdout",
     "output_type": "stream",
     "text": [
      "You are using device: cuda\n",
      "You are using PyTorch version: 2.5.1\n"
     ]
    }
   ],
   "source": [
    "# Check if GPU is available\n",
    "device = torch.device('cuda' if torch.cuda.is_available() else 'cpu')\n",
    "print(\"You are using device: %s\" % device)\n",
    "print(\"You are using PyTorch version: %s\" % torch.__version__)\n",
    "# define class names\n",
    "classes = ('Class A', 'Class B', 'Class C')\n",
    "dataset_path = \"./damage_classification_forTrain/column_damage\""
   ]
  },
  {
   "cell_type": "markdown",
   "id": "45b9cc02",
   "metadata": {},
   "source": [
    "# Data loading and processing"
   ]
  },
  {
   "cell_type": "code",
   "execution_count": 4,
   "id": "a8c13145",
   "metadata": {},
   "outputs": [
    {
     "name": "stdout",
     "output_type": "stream",
     "text": [
      "\n",
      "每個類別的訓練資料數量：\n",
      "  Class A: 326 張\n",
      "  Class B: 54 張\n",
      "  Class C: 207 張\n",
      "\n",
      "每個類別的驗證資料數量：\n",
      "  Class A: 82 張\n",
      "  Class B: 13 張\n",
      "  Class C: 52 張\n",
      "Dataset classes: {0: 'Class A', 1: 'Class B', 2: 'Class C'}\n",
      "Using predefined class names\n"
     ]
    }
   ],
   "source": [
    "def load_dataset(path_dataset):\n",
    "    # Data transformations for training\n",
    "    \n",
    "    transform_train = transforms.Compose([\n",
    "        transforms.Resize((224, 224)),\n",
    "        transforms.RandomChoice([\n",
    "            transforms.RandomCrop(224, padding=4),\n",
    "            transforms.RandomHorizontalFlip(),\n",
    "            transforms.ColorJitter(brightness=0.3, contrast=0.3, saturation=0.3, hue=0.05)\n",
    "        ]),\n",
    "        transforms.ToTensor(),\n",
    "        transforms.Normalize((0.5, 0.5, 0.5), (0.5, 0.5, 0.5))\n",
    "    ])\n",
    "    \n",
    "    transform_noaug = transforms.Compose([\n",
    "        transforms.Resize((224, 224)),\n",
    "        transforms.ToTensor(),\n",
    "        transforms.Normalize((0.5, 0.5, 0.5), (0.5, 0.5, 0.5))\n",
    "    ])\n",
    "\n",
    "    # Load dataset\n",
    "    full_dataset = torchvision.datasets.ImageFolder(\n",
    "        root=path_dataset,\n",
    "        transform=transform_train\n",
    "    )\n",
    "    full_dataset_noaug = torchvision.datasets.ImageFolder(\n",
    "        root=path_dataset,\n",
    "        transform=transform_noaug\n",
    "    )\n",
    "    # 拿到所有的資料 index 和 label\n",
    "    all_indices = list(range(len(full_dataset)))\n",
    "    all_labels = [full_dataset[i][1] for i in range(len(full_dataset))]\n",
    "\n",
    "    # 使用 stratify 保持類別分布一致\n",
    "    train_indices, val_indices = train_test_split(\n",
    "        all_indices,\n",
    "        test_size=0.2,\n",
    "        stratify=all_labels, \n",
    "        random_state=42        \n",
    "    )\n",
    "    trainset = Subset(full_dataset, train_indices)\n",
    "    valset = Subset(full_dataset, val_indices)\n",
    "    \n",
    "    trainset.dataset.transform = transform_train\n",
    "    valset.dataset.transform = transform_noaug\n",
    "\n",
    "\n",
    "    train_labels = [trainset[i][1] for i in range(len(trainset))]\n",
    "    val_labels = [valset[i][1] for i in range(len(valset))]\n",
    "\n",
    "    train_counter = Counter(train_labels)\n",
    "    val_counter = Counter(val_labels)\n",
    "\n",
    "    print(\"\\n每個類別的訓練資料數量：\")\n",
    "    for i in range(len(full_dataset_noaug.classes)):\n",
    "        class_name = full_dataset_noaug.classes[i]\n",
    "        print(f\"  {class_name}: {train_counter[i]} 張\")\n",
    "    \n",
    "    print(\"\\n每個類別的驗證資料數量：\")\n",
    "    for i in range(len(full_dataset_noaug.classes)):\n",
    "        class_name = full_dataset_noaug.classes[i]\n",
    "        print(f\"  {class_name}: {val_counter[i]} 張\")\n",
    "\n",
    "    trainloader = DataLoader(trainset, batch_size=16, shuffle=True, num_workers=0)\n",
    "    valloader = DataLoader(valset, batch_size=8, shuffle=False, num_workers=0)\n",
    "\n",
    "    class_map = {i: full_dataset_noaug.classes[i] for i in range(len(full_dataset_noaug.classes))}\n",
    "\n",
    "    print(f\"Dataset classes: {class_map}\")\n",
    "\n",
    "    global classes\n",
    "    if len(full_dataset_noaug.classes) == len(classes):\n",
    "        print(\"Using predefined class names\")\n",
    "    else:\n",
    "        print(\"Using classes from dataset folder structure\")\n",
    "        classes = full_dataset_noaug.classes\n",
    "\n",
    "    return trainloader, valloader, full_dataset_noaug\n",
    "\n",
    "# Load dataset\n",
    "trainloader, valloader, dataset_noaug = load_dataset(dataset_path)"
   ]
  },
  {
   "cell_type": "markdown",
   "id": "f3d6565c",
   "metadata": {},
   "source": [
    "# Model Definition "
   ]
  },
  {
   "cell_type": "code",
   "execution_count": 5,
   "id": "76f93a6c",
   "metadata": {},
   "outputs": [],
   "source": [
    "from torchvision.models import vit_l_16, ViT_L_16_Weights\n",
    "\n",
    "def class_model(num_classes=3, freeze_backbone=True):\n",
    "    weights = ViT_L_16_Weights.IMAGENET1K_SWAG_LINEAR_V1\n",
    "    model = vit_l_16(weights=weights)\n",
    "\n",
    "    in_features = model.heads.head.in_features\n",
    "\n",
    "    # 自定義分類頭\n",
    "    model.heads.head = nn.Sequential(\n",
    "        nn.LayerNorm(in_features),\n",
    "        nn.Dropout(0.5),\n",
    "        nn.Linear(in_features, 512),\n",
    "        nn.ReLU(),\n",
    "        nn.Dropout(0.5),\n",
    "        nn.Linear(512, 128),\n",
    "        nn.ReLU(),\n",
    "        nn.Dropout(0.5),\n",
    "        nn.Linear(128, num_classes)\n",
    "    )\n",
    "\n",
    "    if freeze_backbone:\n",
    "        # 先全部凍結\n",
    "        for param in model.parameters():\n",
    "            param.requires_grad = False\n",
    "\n",
    "        # 解凍分類頭\n",
    "        for param in model.heads.parameters():\n",
    "            param.requires_grad = True\n",
    "\n",
    "        # 解凍最後 3 個 encoder blocks\n",
    "        encoder_blocks = model.encoder.layers  # transformer blocks\n",
    "        for block in encoder_blocks[-2:]:\n",
    "            for param in block.parameters():\n",
    "                param.requires_grad = True\n",
    "\n",
    "        # 解凍所有 LayerNorm 或 normalization 層\n",
    "        for module in model.modules():\n",
    "            if isinstance(module, (nn.LayerNorm, nn.BatchNorm2d)):\n",
    "                for param in module.parameters():\n",
    "                    param.requires_grad = True\n",
    "\n",
    "    return model, weights.transforms()\n",
    "\n",
    "\n",
    "# 使用方式\n",
    "model, preprocess = class_model(num_classes=3, freeze_backbone=True)\n",
    "model = model.to(device)\n"
   ]
  },
  {
   "cell_type": "markdown",
   "id": "351df54f",
   "metadata": {},
   "source": [
    "# Model Training"
   ]
  },
  {
   "cell_type": "code",
   "execution_count": 6,
   "id": "6dfce607",
   "metadata": {},
   "outputs": [],
   "source": [
    "class EarlyStopping:\n",
    "    def __init__(self, patience=6, delta=0.0, mode='max', verbose=True):\n",
    "        self.patience = patience\n",
    "        self.delta = delta\n",
    "        self.verbose = verbose\n",
    "        self.counter = 0\n",
    "        self.best_score = None\n",
    "        self.early_stop = False\n",
    "        self.mode = mode  # 'min' for loss, 'max' for accuracy\n",
    "\n",
    "    def __call__(self, current_score):\n",
    "        if self.best_score is None:\n",
    "            self.best_score = current_score\n",
    "        elif ((self.mode == 'min' and current_score > self.best_score - self.delta) or\n",
    "              (self.mode == 'max' and current_score < self.best_score + self.delta)):\n",
    "            self.counter += 1\n",
    "            if self.verbose:\n",
    "                print(f\" EarlyStopping counter: {self.counter}/{self.patience}\")\n",
    "            if self.counter >= self.patience:\n",
    "                self.early_stop = True\n",
    "                if self.verbose:\n",
    "                    print(\"觸發 Early Stopping!\")\n",
    "        else:\n",
    "            self.best_score = current_score\n",
    "            self.counter = 0\n",
    "\n",
    "\n",
    "def train(model, trainloader, valloader, epochs=10, num_classes=3, device='cuda'):\n",
    "    # === 計算 class weights 並依照調整係數修正 ===\n",
    "    class_counts = [0] * num_classes\n",
    "    for _, label in trainloader.dataset:\n",
    "        class_counts[label] += 1\n",
    "\n",
    "    total_samples = sum(class_counts)\n",
    "\n",
    "    # 計算初始的 class weights（越少樣本，權重越高）\n",
    "    class_weights = [total_samples / c for c in class_counts]\n",
    "\n",
    "    # 你可以在這裡手動調整每一類的權重係數（例如 class 0: 1.0, class 1: 1.1, class 2: 0.9）\n",
    "    class_weight_factors = [1.0, 1.5, 1.09]\n",
    "\n",
    "    # 套用權重調整係數\n",
    "    class_weights = [w * f for w, f in zip(class_weights, class_weight_factors)]\n",
    "\n",
    "    class_weights = torch.tensor(class_weights, dtype=torch.float).to(device)\n",
    "\n",
    "    # 印出資訊\n",
    "    print(f\"類別計數：{class_counts}\")\n",
    "    print(f\"Class Weight Factors: {class_weight_factors}\")\n",
    "    print(f\"最終 Class Weights: {class_weights.cpu().numpy()}\")\n",
    "\n",
    "\n",
    "    # 使用 class weights 的損失\n",
    "    criterion = nn.CrossEntropyLoss(weight=class_weights,label_smoothing=0.1)\n",
    "    \n",
    "    # 優化器使用 AdamW\n",
    "    optimizer = torch.optim.AdamW(model.parameters(), lr=1e-4, weight_decay=0.05)\n",
    "\n",
    "    # 使用 OneCycleLR 調整學習率\n",
    "    scheduler = torch.optim.lr_scheduler.OneCycleLR(\n",
    "        optimizer,\n",
    "        max_lr=1e-4,\n",
    "        epochs=epochs,\n",
    "        steps_per_epoch=len(trainloader),\n",
    "        pct_start=0.2,         # 20% warmup\n",
    "        div_factor=25,         # 初始 lr = max_lr / 25\n",
    "        final_div_factor=1e4   # 結束時 lr = max_lr / 10000\n",
    "    )\n",
    "\n",
    "    train_losses = []\n",
    "    train_accuracies = []\n",
    "    val_losses = []\n",
    "    val_accuracies = []\n",
    "\n",
    "    early_stopping = EarlyStopping(patience=6, delta=0.001, mode='max', verbose=True)\n",
    "    best_acc = 0.0  # 初始化最佳準確率\n",
    "\n",
    "    for epoch in range(epochs):\n",
    "        model.train()\n",
    "        running_loss = 0.0\n",
    "        correct = 0\n",
    "        total = 0\n",
    "\n",
    "        loop = tqdm(enumerate(trainloader), total=len(trainloader), leave=True)\n",
    "        for i, data in loop:\n",
    "            inputs, labels = data\n",
    "            inputs, labels = inputs.to(device), labels.to(device)\n",
    "\n",
    "            optimizer.zero_grad()\n",
    "\n",
    "            outputs = model(inputs)\n",
    "            loss = criterion(outputs, labels)\n",
    "            loss.backward()\n",
    "\n",
    "            # 優化器步驟\n",
    "            optimizer.step()\n",
    "\n",
    "            # 每個 batch 後動態調整學習率\n",
    "            scheduler.step()\n",
    "\n",
    "            _, predicted = torch.max(outputs.data, 1)\n",
    "            total += labels.size(0)\n",
    "            correct += (predicted == labels).sum().item()\n",
    "\n",
    "            running_loss += loss.item()\n",
    "            loop.set_description(f\"Epoch [{epoch+1}/{epochs}]\")\n",
    "            loop.set_postfix(loss=running_loss/(i+1), accuracy=100.*correct/total)\n",
    "\n",
    "        epoch_train_loss = running_loss / len(trainloader)\n",
    "        epoch_train_acc = 100. * correct / total\n",
    "        train_losses.append(epoch_train_loss)\n",
    "        train_accuracies.append(epoch_train_acc)\n",
    "\n",
    "        model.eval()\n",
    "        val_running_loss = 0.0\n",
    "        val_correct = 0\n",
    "        val_total = 0\n",
    "\n",
    "        with torch.no_grad():\n",
    "            for data in valloader:\n",
    "                images, labels = data\n",
    "                images, labels = images.to(device), labels.to(device)\n",
    "\n",
    "                outputs = model(images)\n",
    "                loss = criterion(outputs, labels)\n",
    "                val_running_loss += loss.item()\n",
    "\n",
    "                _, predicted = torch.max(outputs.data, 1)\n",
    "                val_total += labels.size(0)\n",
    "                val_correct += (predicted == labels).sum().item()\n",
    "\n",
    "        epoch_val_loss = val_running_loss / len(valloader)\n",
    "        epoch_val_acc = 100. * val_correct / val_total\n",
    "        val_losses.append(epoch_val_loss)\n",
    "        val_accuracies.append(epoch_val_acc)\n",
    "\n",
    "        # 儲存最佳模型\n",
    "        if epoch_val_acc > best_acc:\n",
    "            best_acc = epoch_val_acc\n",
    "            torch.save(model.state_dict(), 'best_model_class.h5')\n",
    "            print(\"保存當前最佳模型\")\n",
    "\n",
    "        print(f\"Epoch {epoch+1}/{epochs}\")\n",
    "        print(f\"Train Loss: {epoch_train_loss:.4f}, Train Acc: {epoch_train_acc:.2f}%\")\n",
    "        print(f\"Val Loss: {epoch_val_loss:.4f}, Val Acc: {epoch_val_acc:.2f}%\")\n",
    "        print(\"-\" * 60)\n",
    "\n",
    "        # Early stopping 判斷\n",
    "        early_stopping(epoch_val_acc)  # 使用準確率進行早停判斷\n",
    "        if early_stopping.early_stop:\n",
    "            break\n",
    "\n",
    "    print('訓練完成')\n",
    "    return model, train_losses, train_accuracies, val_losses, val_accuracies\n"
   ]
  },
  {
   "cell_type": "code",
   "execution_count": 7,
   "id": "4455fc98",
   "metadata": {},
   "outputs": [],
   "source": [
    "def evaluate(model, valloader):\n",
    "\n",
    "    model.eval()\n",
    "    correct = 0\n",
    "    total = 0\n",
    "    \n",
    "    # Initialize lists for per-class accuracy\n",
    "    num_classes = len(classes)\n",
    "    class_correct = list(0. for i in range(num_classes))\n",
    "    class_total = list(0. for i in range(num_classes))\n",
    "    \n",
    "    # Initialize confusion matrix\n",
    "    confusion_matrix = torch.zeros(num_classes, num_classes)\n",
    "    \n",
    "    with torch.no_grad():\n",
    "        for data in tqdm(valloader, desc=\"Evaluating\"):\n",
    "            images, labels = data\n",
    "            images, labels = images.to(device), labels.to(device)\n",
    "            outputs = model(images)\n",
    "            _, predicted = torch.max(outputs.data, 1)\n",
    "            total += labels.size(0)\n",
    "            correct += (predicted == labels).sum().item()\n",
    "            \n",
    "            # Calculate per-class accuracy\n",
    "            c = (predicted == labels).squeeze()\n",
    "            for i in range(len(labels)):\n",
    "                label = labels[i]\n",
    "                class_correct[label] += c[i].item()\n",
    "                class_total[label] += 1\n",
    "                \n",
    "                # Update confusion matrix\n",
    "                confusion_matrix[label, predicted[i]] += 1\n",
    "\n",
    "    overall_accuracy = 100 * correct / total\n",
    "    print(f'Overall Accuracy: {overall_accuracy:.2f}%')\n",
    "\n",
    "    \n",
    "    return class_correct, class_total, confusion_matrix"
   ]
  },
  {
   "cell_type": "code",
   "execution_count": 8,
   "id": "34fa421e",
   "metadata": {},
   "outputs": [
    {
     "name": "stdout",
     "output_type": "stream",
     "text": [
      "Starting training...\n",
      "類別計數：[326, 54, 207]\n",
      "Class Weight Factors: [1.0, 1.5, 1.09]\n",
      "最終 Class Weights: [ 1.8006135 16.305555   3.0909662]\n"
     ]
    },
    {
     "name": "stderr",
     "output_type": "stream",
     "text": [
      "Epoch [1/80]: 100%|██████████| 37/37 [03:51<00:00,  6.26s/it, accuracy=24.5, loss=1.21]\n"
     ]
    },
    {
     "name": "stdout",
     "output_type": "stream",
     "text": [
      "保存當前最佳模型\n",
      "Epoch 1/80\n",
      "Train Loss: 1.2108, Train Acc: 24.53%\n",
      "Val Loss: 1.2281, Val Acc: 8.84%\n",
      "------------------------------------------------------------\n"
     ]
    },
    {
     "name": "stderr",
     "output_type": "stream",
     "text": [
      "Epoch [2/80]: 100%|██████████| 37/37 [03:50<00:00,  6.24s/it, accuracy=19.1, loss=1.17]\n"
     ]
    },
    {
     "name": "stdout",
     "output_type": "stream",
     "text": [
      "保存當前最佳模型\n",
      "Epoch 2/80\n",
      "Train Loss: 1.1727, Train Acc: 19.08%\n",
      "Val Loss: 1.2030, Val Acc: 11.56%\n",
      "------------------------------------------------------------\n"
     ]
    },
    {
     "name": "stderr",
     "output_type": "stream",
     "text": [
      "Epoch [3/80]: 100%|██████████| 37/37 [03:49<00:00,  6.20s/it, accuracy=27.4, loss=1.14]\n"
     ]
    },
    {
     "name": "stdout",
     "output_type": "stream",
     "text": [
      "保存當前最佳模型\n",
      "Epoch 3/80\n",
      "Train Loss: 1.1422, Train Acc: 27.43%\n",
      "Val Loss: 1.1628, Val Acc: 16.33%\n",
      "------------------------------------------------------------\n"
     ]
    },
    {
     "name": "stderr",
     "output_type": "stream",
     "text": [
      "Epoch [4/80]: 100%|██████████| 37/37 [03:50<00:00,  6.23s/it, accuracy=37, loss=1.08]  \n"
     ]
    },
    {
     "name": "stdout",
     "output_type": "stream",
     "text": [
      "保存當前最佳模型\n",
      "Epoch 4/80\n",
      "Train Loss: 1.0831, Train Acc: 36.97%\n",
      "Val Loss: 1.1040, Val Acc: 51.02%\n",
      "------------------------------------------------------------\n"
     ]
    },
    {
     "name": "stderr",
     "output_type": "stream",
     "text": [
      "Epoch [5/80]: 100%|██████████| 37/37 [03:51<00:00,  6.27s/it, accuracy=48, loss=0.999] \n"
     ]
    },
    {
     "name": "stdout",
     "output_type": "stream",
     "text": [
      "保存當前最佳模型\n",
      "Epoch 5/80\n",
      "Train Loss: 0.9987, Train Acc: 48.04%\n",
      "Val Loss: 0.9767, Val Acc: 76.87%\n",
      "------------------------------------------------------------\n"
     ]
    },
    {
     "name": "stderr",
     "output_type": "stream",
     "text": [
      "Epoch [6/80]: 100%|██████████| 37/37 [03:51<00:00,  6.26s/it, accuracy=65.2, loss=0.923]\n"
     ]
    },
    {
     "name": "stdout",
     "output_type": "stream",
     "text": [
      "保存當前最佳模型\n",
      "Epoch 6/80\n",
      "Train Loss: 0.9225, Train Acc: 65.25%\n",
      "Val Loss: 0.9084, Val Acc: 81.63%\n",
      "------------------------------------------------------------\n"
     ]
    },
    {
     "name": "stderr",
     "output_type": "stream",
     "text": [
      "Epoch [7/80]: 100%|██████████| 37/37 [03:47<00:00,  6.15s/it, accuracy=77.7, loss=0.836]\n"
     ]
    },
    {
     "name": "stdout",
     "output_type": "stream",
     "text": [
      "Epoch 7/80\n",
      "Train Loss: 0.8359, Train Acc: 77.68%\n",
      "Val Loss: 0.9189, Val Acc: 81.63%\n",
      "------------------------------------------------------------\n",
      " EarlyStopping counter: 1/6\n"
     ]
    },
    {
     "name": "stderr",
     "output_type": "stream",
     "text": [
      "Epoch [8/80]: 100%|██████████| 37/37 [03:46<00:00,  6.11s/it, accuracy=80.4, loss=0.798]\n"
     ]
    },
    {
     "name": "stdout",
     "output_type": "stream",
     "text": [
      "Epoch 8/80\n",
      "Train Loss: 0.7975, Train Acc: 80.41%\n",
      "Val Loss: 0.9860, Val Acc: 72.11%\n",
      "------------------------------------------------------------\n",
      " EarlyStopping counter: 2/6\n"
     ]
    },
    {
     "name": "stderr",
     "output_type": "stream",
     "text": [
      "Epoch [9/80]: 100%|██████████| 37/37 [03:45<00:00,  6.10s/it, accuracy=84, loss=0.782]  \n"
     ]
    },
    {
     "name": "stdout",
     "output_type": "stream",
     "text": [
      "Epoch 9/80\n",
      "Train Loss: 0.7819, Train Acc: 83.99%\n",
      "Val Loss: 0.8698, Val Acc: 79.59%\n",
      "------------------------------------------------------------\n",
      " EarlyStopping counter: 3/6\n"
     ]
    },
    {
     "name": "stderr",
     "output_type": "stream",
     "text": [
      "Epoch [10/80]: 100%|██████████| 37/37 [03:45<00:00,  6.10s/it, accuracy=87.9, loss=0.751]\n"
     ]
    },
    {
     "name": "stdout",
     "output_type": "stream",
     "text": [
      "Epoch 10/80\n",
      "Train Loss: 0.7508, Train Acc: 87.90%\n",
      "Val Loss: 1.0556, Val Acc: 64.63%\n",
      "------------------------------------------------------------\n",
      " EarlyStopping counter: 4/6\n"
     ]
    },
    {
     "name": "stderr",
     "output_type": "stream",
     "text": [
      "Epoch [11/80]: 100%|██████████| 37/37 [03:45<00:00,  6.10s/it, accuracy=88.1, loss=0.673]\n"
     ]
    },
    {
     "name": "stdout",
     "output_type": "stream",
     "text": [
      "保存當前最佳模型\n",
      "Epoch 11/80\n",
      "Train Loss: 0.6727, Train Acc: 88.07%\n",
      "Val Loss: 0.9279, Val Acc: 82.99%\n",
      "------------------------------------------------------------\n"
     ]
    },
    {
     "name": "stderr",
     "output_type": "stream",
     "text": [
      "Epoch [12/80]: 100%|██████████| 37/37 [03:46<00:00,  6.13s/it, accuracy=87.9, loss=0.703]\n"
     ]
    },
    {
     "name": "stdout",
     "output_type": "stream",
     "text": [
      "保存當前最佳模型\n",
      "Epoch 12/80\n",
      "Train Loss: 0.7035, Train Acc: 87.90%\n",
      "Val Loss: 0.9261, Val Acc: 85.03%\n",
      "------------------------------------------------------------\n"
     ]
    },
    {
     "name": "stderr",
     "output_type": "stream",
     "text": [
      "Epoch [13/80]: 100%|██████████| 37/37 [03:47<00:00,  6.16s/it, accuracy=90.6, loss=0.663]\n"
     ]
    },
    {
     "name": "stdout",
     "output_type": "stream",
     "text": [
      "保存當前最佳模型\n",
      "Epoch 13/80\n",
      "Train Loss: 0.6631, Train Acc: 90.63%\n",
      "Val Loss: 0.8679, Val Acc: 85.71%\n",
      "------------------------------------------------------------\n"
     ]
    },
    {
     "name": "stderr",
     "output_type": "stream",
     "text": [
      "Epoch [14/80]: 100%|██████████| 37/37 [03:46<00:00,  6.13s/it, accuracy=95.6, loss=0.59] \n"
     ]
    },
    {
     "name": "stdout",
     "output_type": "stream",
     "text": [
      "保存當前最佳模型\n",
      "Epoch 14/80\n",
      "Train Loss: 0.5904, Train Acc: 95.57%\n",
      "Val Loss: 0.8811, Val Acc: 86.39%\n",
      "------------------------------------------------------------\n"
     ]
    },
    {
     "name": "stderr",
     "output_type": "stream",
     "text": [
      "Epoch [15/80]: 100%|██████████| 37/37 [03:49<00:00,  6.20s/it, accuracy=96.1, loss=0.585]\n"
     ]
    },
    {
     "name": "stdout",
     "output_type": "stream",
     "text": [
      "Epoch 15/80\n",
      "Train Loss: 0.5854, Train Acc: 96.08%\n",
      "Val Loss: 0.9526, Val Acc: 85.71%\n",
      "------------------------------------------------------------\n",
      " EarlyStopping counter: 1/6\n"
     ]
    },
    {
     "name": "stderr",
     "output_type": "stream",
     "text": [
      "Epoch [16/80]: 100%|██████████| 37/37 [03:49<00:00,  6.20s/it, accuracy=96.4, loss=0.589]\n"
     ]
    },
    {
     "name": "stdout",
     "output_type": "stream",
     "text": [
      "保存當前最佳模型\n",
      "Epoch 16/80\n",
      "Train Loss: 0.5889, Train Acc: 96.42%\n",
      "Val Loss: 0.9085, Val Acc: 88.44%\n",
      "------------------------------------------------------------\n"
     ]
    },
    {
     "name": "stderr",
     "output_type": "stream",
     "text": [
      "Epoch [17/80]: 100%|██████████| 37/37 [03:47<00:00,  6.14s/it, accuracy=95.6, loss=0.604]\n"
     ]
    },
    {
     "name": "stdout",
     "output_type": "stream",
     "text": [
      "Epoch 17/80\n",
      "Train Loss: 0.6042, Train Acc: 95.57%\n",
      "Val Loss: 1.0153, Val Acc: 84.35%\n",
      "------------------------------------------------------------\n",
      " EarlyStopping counter: 1/6\n"
     ]
    },
    {
     "name": "stderr",
     "output_type": "stream",
     "text": [
      "Epoch [18/80]: 100%|██████████| 37/37 [03:43<00:00,  6.05s/it, accuracy=98, loss=0.562]  \n"
     ]
    },
    {
     "name": "stdout",
     "output_type": "stream",
     "text": [
      "Epoch 18/80\n",
      "Train Loss: 0.5618, Train Acc: 97.96%\n",
      "Val Loss: 1.1350, Val Acc: 82.31%\n",
      "------------------------------------------------------------\n",
      " EarlyStopping counter: 2/6\n"
     ]
    },
    {
     "name": "stderr",
     "output_type": "stream",
     "text": [
      "Epoch [19/80]: 100%|██████████| 37/37 [03:44<00:00,  6.06s/it, accuracy=96.9, loss=0.583]\n"
     ]
    },
    {
     "name": "stdout",
     "output_type": "stream",
     "text": [
      "Epoch 19/80\n",
      "Train Loss: 0.5830, Train Acc: 96.93%\n",
      "Val Loss: 0.9213, Val Acc: 87.76%\n",
      "------------------------------------------------------------\n",
      " EarlyStopping counter: 3/6\n"
     ]
    },
    {
     "name": "stderr",
     "output_type": "stream",
     "text": [
      "Epoch [20/80]: 100%|██████████| 37/37 [03:44<00:00,  6.06s/it, accuracy=97.4, loss=0.575]\n"
     ]
    },
    {
     "name": "stdout",
     "output_type": "stream",
     "text": [
      "保存當前最佳模型\n",
      "Epoch 20/80\n",
      "Train Loss: 0.5746, Train Acc: 97.44%\n",
      "Val Loss: 0.9248, Val Acc: 89.80%\n",
      "------------------------------------------------------------\n"
     ]
    },
    {
     "name": "stderr",
     "output_type": "stream",
     "text": [
      "Epoch [21/80]: 100%|██████████| 37/37 [03:44<00:00,  6.06s/it, accuracy=99.1, loss=0.543]\n"
     ]
    },
    {
     "name": "stdout",
     "output_type": "stream",
     "text": [
      "保存當前最佳模型\n",
      "Epoch 21/80\n",
      "Train Loss: 0.5429, Train Acc: 99.15%\n",
      "Val Loss: 0.9185, Val Acc: 90.48%\n",
      "------------------------------------------------------------\n"
     ]
    },
    {
     "name": "stderr",
     "output_type": "stream",
     "text": [
      "Epoch [22/80]: 100%|██████████| 37/37 [03:43<00:00,  6.04s/it, accuracy=99.7, loss=0.527]\n"
     ]
    },
    {
     "name": "stdout",
     "output_type": "stream",
     "text": [
      "Epoch 22/80\n",
      "Train Loss: 0.5274, Train Acc: 99.66%\n",
      "Val Loss: 0.9178, Val Acc: 89.80%\n",
      "------------------------------------------------------------\n",
      " EarlyStopping counter: 1/6\n"
     ]
    },
    {
     "name": "stderr",
     "output_type": "stream",
     "text": [
      "Epoch [23/80]: 100%|██████████| 37/37 [03:43<00:00,  6.05s/it, accuracy=99.7, loss=0.522]\n"
     ]
    },
    {
     "name": "stdout",
     "output_type": "stream",
     "text": [
      "Epoch 23/80\n",
      "Train Loss: 0.5220, Train Acc: 99.66%\n",
      "Val Loss: 0.8880, Val Acc: 90.48%\n",
      "------------------------------------------------------------\n",
      " EarlyStopping counter: 2/6\n"
     ]
    },
    {
     "name": "stderr",
     "output_type": "stream",
     "text": [
      "Epoch [24/80]: 100%|██████████| 37/37 [03:43<00:00,  6.04s/it, accuracy=99.5, loss=0.526]\n"
     ]
    },
    {
     "name": "stdout",
     "output_type": "stream",
     "text": [
      "Epoch 24/80\n",
      "Train Loss: 0.5262, Train Acc: 99.49%\n",
      "Val Loss: 0.9009, Val Acc: 89.12%\n",
      "------------------------------------------------------------\n",
      " EarlyStopping counter: 3/6\n"
     ]
    },
    {
     "name": "stderr",
     "output_type": "stream",
     "text": [
      "Epoch [25/80]: 100%|██████████| 37/37 [03:47<00:00,  6.15s/it, accuracy=99, loss=0.538]  \n"
     ]
    },
    {
     "name": "stdout",
     "output_type": "stream",
     "text": [
      "保存當前最佳模型\n",
      "Epoch 25/80\n",
      "Train Loss: 0.5382, Train Acc: 98.98%\n",
      "Val Loss: 0.8644, Val Acc: 91.84%\n",
      "------------------------------------------------------------\n"
     ]
    },
    {
     "name": "stderr",
     "output_type": "stream",
     "text": [
      "Epoch [26/80]: 100%|██████████| 37/37 [03:50<00:00,  6.23s/it, accuracy=99.3, loss=0.539]\n"
     ]
    },
    {
     "name": "stdout",
     "output_type": "stream",
     "text": [
      "Epoch 26/80\n",
      "Train Loss: 0.5392, Train Acc: 99.32%\n",
      "Val Loss: 0.9243, Val Acc: 88.44%\n",
      "------------------------------------------------------------\n",
      " EarlyStopping counter: 1/6\n"
     ]
    },
    {
     "name": "stderr",
     "output_type": "stream",
     "text": [
      "Epoch [27/80]: 100%|██████████| 37/37 [03:44<00:00,  6.06s/it, accuracy=99.5, loss=0.523]\n"
     ]
    },
    {
     "name": "stdout",
     "output_type": "stream",
     "text": [
      "Epoch 27/80\n",
      "Train Loss: 0.5228, Train Acc: 99.49%\n",
      "Val Loss: 0.9528, Val Acc: 88.44%\n",
      "------------------------------------------------------------\n",
      " EarlyStopping counter: 2/6\n"
     ]
    },
    {
     "name": "stderr",
     "output_type": "stream",
     "text": [
      "Epoch [28/80]: 100%|██████████| 37/37 [03:47<00:00,  6.14s/it, accuracy=100, loss=0.517]\n"
     ]
    },
    {
     "name": "stdout",
     "output_type": "stream",
     "text": [
      "Epoch 28/80\n",
      "Train Loss: 0.5174, Train Acc: 100.00%\n",
      "Val Loss: 0.9376, Val Acc: 88.44%\n",
      "------------------------------------------------------------\n",
      " EarlyStopping counter: 3/6\n"
     ]
    },
    {
     "name": "stderr",
     "output_type": "stream",
     "text": [
      "Epoch [29/80]: 100%|██████████| 37/37 [03:43<00:00,  6.05s/it, accuracy=100, loss=0.513]\n"
     ]
    },
    {
     "name": "stdout",
     "output_type": "stream",
     "text": [
      "Epoch 29/80\n",
      "Train Loss: 0.5131, Train Acc: 100.00%\n",
      "Val Loss: 0.9432, Val Acc: 88.44%\n",
      "------------------------------------------------------------\n",
      " EarlyStopping counter: 4/6\n"
     ]
    },
    {
     "name": "stderr",
     "output_type": "stream",
     "text": [
      "Epoch [30/80]: 100%|██████████| 37/37 [03:43<00:00,  6.04s/it, accuracy=100, loss=0.522]\n"
     ]
    },
    {
     "name": "stdout",
     "output_type": "stream",
     "text": [
      "Epoch 30/80\n",
      "Train Loss: 0.5217, Train Acc: 100.00%\n",
      "Val Loss: 0.9312, Val Acc: 88.44%\n",
      "------------------------------------------------------------\n",
      " EarlyStopping counter: 5/6\n"
     ]
    },
    {
     "name": "stderr",
     "output_type": "stream",
     "text": [
      "Epoch [31/80]: 100%|██████████| 37/37 [03:43<00:00,  6.05s/it, accuracy=100, loss=0.525]\n"
     ]
    },
    {
     "name": "stdout",
     "output_type": "stream",
     "text": [
      "Epoch 31/80\n",
      "Train Loss: 0.5246, Train Acc: 100.00%\n",
      "Val Loss: 0.9257, Val Acc: 89.12%\n",
      "------------------------------------------------------------\n",
      " EarlyStopping counter: 6/6\n",
      "觸發 Early Stopping!\n",
      "訓練完成\n"
     ]
    }
   ],
   "source": [
    "print(\"Starting training...\")\n",
    "trained_model, train_losses, train_accuracies, val_losses, val_accuracies = train(\n",
    "    model, trainloader, valloader, epochs=80\n",
    ")"
   ]
  },
  {
   "cell_type": "markdown",
   "id": "4a6ddb12",
   "metadata": {},
   "source": [
    "# Training Result Visualization"
   ]
  },
  {
   "cell_type": "code",
   "execution_count": 9,
   "id": "63074415",
   "metadata": {},
   "outputs": [],
   "source": [
    "def plot_training_metrics(train_losses, train_accuracies, val_losses, val_accuracies):\n",
    "\n",
    "    epochs = range(1, len(train_losses) + 1)\n",
    "    \n",
    "    fig, (ax1, ax2) = plt.subplots(1, 2, figsize=(15, 5))\n",
    "\n",
    "    ax1.plot(epochs, train_losses, 'b-', label='Training Loss')\n",
    "    ax1.plot(epochs, val_losses, 'r-', label='Validation Loss')\n",
    "    ax1.set_title('Training and Validation Loss')\n",
    "    ax1.set_xlabel('Epochs')\n",
    "    ax1.set_ylabel('Loss')\n",
    "    ax1.legend()\n",
    "    ax1.grid(True)\n",
    "    \n",
    "    ax2.plot(epochs, train_accuracies, 'b-', label='Training Accuracy')\n",
    "    ax2.plot(epochs, val_accuracies, 'r-', label='Validation Accuracy')\n",
    "    ax2.set_title('Training and Validation Accuracy')\n",
    "    ax2.set_xlabel('Epochs')\n",
    "    ax2.set_ylabel('Accuracy (%)')\n",
    "    ax2.legend()\n",
    "    ax2.grid(True)\n",
    "    \n",
    "    plt.tight_layout()\n",
    "    plt.show()\n",
    "    \n",
    "    print(\"Training metrics plot saved as 'training_metrics.png'\")\n",
    "    return"
   ]
  },
  {
   "cell_type": "code",
   "execution_count": 10,
   "id": "e4d14c94",
   "metadata": {},
   "outputs": [],
   "source": [
    "def plot_evaluation_metrics(class_correct, class_total, confusion_matrix):\n",
    "\n",
    "    num_classes = len(classes)\n",
    "    \n",
    "    # Calculate accuracies and identify valid classes\n",
    "    accuracies = []\n",
    "    valid_classes = []\n",
    "    \n",
    "    print(\"\\nPer-class Accuracy:\")\n",
    "    print(\"-\" * 50)\n",
    "    for i in range(num_classes):\n",
    "        if class_total[i] > 0:  # Avoid division by zero\n",
    "            accuracy = 100 * class_correct[i] / class_total[i]\n",
    "            print(f'{classes[i]}: {accuracy:.2f}% ({int(class_correct[i])}/{int(class_total[i])})')\n",
    "            accuracies.append(accuracy)\n",
    "            valid_classes.append(classes[i])\n",
    "        else:\n",
    "            print(f'{classes[i]}: No samples')\n",
    "    \n",
    "    # Plot per-class accuracy as a bar chart\n",
    "    plt.figure(figsize=(12, 6))\n",
    "    plt.bar(valid_classes, accuracies, color='skyblue')\n",
    "    plt.xlabel('Classes')\n",
    "    plt.ylabel('Accuracy (%)')\n",
    "    plt.title('Per-class Accuracy')\n",
    "    plt.xticks(rotation=45, ha='right')\n",
    "    plt.tight_layout()\n",
    "    plt.show()\n",
    "    \n",
    "    # Normalize confusion matrix by row (true labels) and plot\n",
    "    normalized_confusion_matrix = confusion_matrix.clone()  # Create a copy to avoid modifying the original\n",
    "    for i in range(num_classes):\n",
    "        if normalized_confusion_matrix[i].sum() > 0:\n",
    "            normalized_confusion_matrix[i] = normalized_confusion_matrix[i] / normalized_confusion_matrix[i].sum()\n",
    "    \n",
    "    # Plot confusion matrix\n",
    "    plt.figure(figsize=(10, 8))\n",
    "    plt.imshow(normalized_confusion_matrix.cpu().numpy(), interpolation='nearest', cmap=plt.cm.Blues)\n",
    "    plt.title('Normalized Confusion Matrix')\n",
    "    plt.colorbar()\n",
    "    tick_marks = np.arange(num_classes)\n",
    "    plt.xticks(tick_marks, classes, rotation=45, ha='right')\n",
    "    plt.yticks(tick_marks, classes)\n",
    "   \n",
    "    thresh = normalized_confusion_matrix.cpu().numpy().max() / 2.0\n",
    "    for i in range(num_classes):\n",
    "        for j in range(num_classes):\n",
    "            plt.text(j, i, f'{normalized_confusion_matrix[i, j]:.2f}',\n",
    "                     horizontalalignment=\"center\",\n",
    "                     color=\"white\" if normalized_confusion_matrix[i, j] > thresh else \"black\")\n",
    "    \n",
    "    plt.tight_layout()\n",
    "    plt.ylabel('True label')\n",
    "    plt.xlabel('Predicted label')\n",
    "    plt.show()\n",
    "    \n",
    "    return"
   ]
  },
  {
   "cell_type": "code",
   "execution_count": 11,
   "id": "affa5f9c",
   "metadata": {},
   "outputs": [
    {
     "data": {
      "image/png": "[encoded data removed]",
      "text/plain": [
       "<Figure size 1500x500 with 2 Axes>"
      ]
     },
     "metadata": {},
     "output_type": "display_data"
    },
    {
     "name": "stdout",
     "output_type": "stream",
     "text": [
      "Training metrics plot saved as 'training_metrics.png'\n"
     ]
    }
   ],
   "source": [
    "plot_training_metrics(train_losses, train_accuracies, val_losses, val_accuracies)"
   ]
  },
  {
   "cell_type": "code",
   "execution_count": 12,
   "id": "46b29f5c",
   "metadata": {},
   "outputs": [
    {
     "name": "stdout",
     "output_type": "stream",
     "text": [
      "Starting evaluating...\n"
     ]
    },
    {
     "name": "stderr",
     "output_type": "stream",
     "text": [
      "Evaluating: 100%|██████████| 19/19 [00:18<00:00,  1.02it/s]"
     ]
    },
    {
     "name": "stdout",
     "output_type": "stream",
     "text": [
      "Overall Accuracy: 89.12%\n",
      "\n",
      "Per-class Accuracy:\n",
      "--------------------------------------------------\n",
      "Class A: 93.90% (77/82)\n",
      "Class B: 46.15% (6/13)\n",
      "Class C: 92.31% (48/52)\n"
     ]
    },
    {
     "name": "stderr",
     "output_type": "stream",
     "text": [
      "\n"
     ]
    },
    {
     "data": {
      "image/png": "[encoded data removed]",
      "text/plain": [
       "<Figure size 1200x600 with 1 Axes>"
      ]
     },
     "metadata": {},
     "output_type": "display_data"
    },
    {
     "data": {
      "image/png": "[encoded data removed]",
      "text/plain": [
       "<Figure size 1000x800 with 2 Axes>"
      ]
     },
     "metadata": {},
     "output_type": "display_data"
    }
   ],
   "source": [
    "print(\"Starting evaluating...\")\n",
    "class_correct, class_total, confusion_matrix = evaluate(trained_model, valloader)\n",
    "plot_evaluation_metrics(class_correct, class_total, confusion_matrix)"
   ]
  }
 ],
 "metadata": {
  "kernelspec": {
   "display_name": "NTU_ML",
   "language": "python",
   "name": "python3"
  },
  "language_info": {
   "codemirror_mode": {
    "name": "ipython",
    "version": 3
   },
   "file_extension": ".py",
   "mimetype": "text/x-python",
   "name": "python",
   "nbconvert_exporter": "python",
   "pygments_lexer": "ipython3",
   "version": "3.10.16"
  }
 },
 "nbformat": 4,
 "nbformat_minor": 5
}
