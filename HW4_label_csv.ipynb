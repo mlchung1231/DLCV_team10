{
 "cells": [
  {
   "cell_type": "code",
   "execution_count": 10,
   "id": "0cf5de01",
   "metadata": {},
   "outputs": [],
   "source": [
    "from sklearn.model_selection import train_test_split\n",
    "from collections import Counter\n",
    "import os\n",
    "import numpy as np\n",
    "import pandas as pd"
   ]
  },
  {
   "cell_type": "code",
   "execution_count": 11,
   "id": "886cfa01",
   "metadata": {},
   "outputs": [
    {
     "name": "stdout",
     "output_type": "stream",
     "text": [
      "CSV with multi-hot saved.\n"
     ]
    }
   ],
   "source": [
    "\n",
    "# 設定圖片與標籤路徑\n",
    "image_dir = \"D:/Deep_Learning homework/finial_competition/damage_detection/3class/for_training/datasets_3class_column_shuffled/train/images\"\n",
    "label_dir = \"D:/Deep_Learning homework/finial_competition/damage_detection/3class/for_training/datasets_3class_column_shuffled/train/labels\"\n",
    "train_path = \"D:/Deep_Learning homework/finial_competition/damage_detection/3class/for_training/datasets_3class_column_shuffled/train\"\n",
    "# 假設總共有 3 類（class 0, 1, 2）\n",
    "NUM_CLASSES = 3\n",
    "\n",
    "# 儲存所有圖片與對應標籤的資料\n",
    "data = []\n",
    "\n",
    "for img_file in os.listdir(image_dir):\n",
    "    if not img_file.lower().endswith(('.jpg')):\n",
    "        continue\n",
    "\n",
    "    base_name = os.path.splitext(img_file)[0]\n",
    "    label_path = os.path.join(label_dir, base_name + \".txt\")\n",
    "\n",
    "    if not os.path.exists(label_path):\n",
    "        continue\n",
    "\n",
    "    with open(label_path, 'r') as f:\n",
    "        lines = f.readlines()\n",
    "        if not lines:\n",
    "            continue\n",
    "\n",
    "        # 假設每張圖只有一個 label，但我們要做成 multi-hot 格式\n",
    "        label = int(lines[0].split()[0])\n",
    "        multi_hot = [0] * NUM_CLASSES\n",
    "        multi_hot[label] = 1\n",
    "\n",
    "        data.append([img_file, label, multi_hot])\n",
    "\n",
    "# 儲存成 CSV\n",
    "df = pd.DataFrame(data, columns=[\"filename\", \"class\", \"multi_hot\"])\n",
    "df.to_csv(os.path.join(train_path, \"train_labels.csv\"), index=False)\n",
    "print(\"CSV with multi-hot saved.\")\n"
   ]
  },
  {
   "cell_type": "code",
   "execution_count": 13,
   "id": "28bbb4cf",
   "metadata": {},
   "outputs": [
    {
     "name": "stdout",
     "output_type": "stream",
     "text": [
      "CSV with multi-hot saved.\n"
     ]
    }
   ],
   "source": [
    "\n",
    "# 設定圖片與標籤路徑\n",
    "image_dir = \"D:/Deep_Learning homework/finial_competition/damage_detection/3class/for_training/datasets_3class_column_shuffled/val/images\"\n",
    "label_dir = \"D:/Deep_Learning homework/finial_competition/damage_detection/3class/for_training/datasets_3class_column_shuffled/val/labels\"\n",
    "train_path = \"D:/Deep_Learning homework/finial_competition/damage_detection/3class/for_training/datasets_3class_column_shuffled/val\"\n",
    "# 假設總共有 3 類（class 0, 1, 2）\n",
    "NUM_CLASSES = 3\n",
    "\n",
    "# 儲存所有圖片與對應標籤的資料\n",
    "data = []\n",
    "\n",
    "for img_file in os.listdir(image_dir):\n",
    "    if not img_file.lower().endswith(('.jpg')):\n",
    "        continue\n",
    "\n",
    "    base_name = os.path.splitext(img_file)[0]\n",
    "    label_path = os.path.join(label_dir, base_name + \".txt\")\n",
    "\n",
    "    if not os.path.exists(label_path):\n",
    "        continue\n",
    "\n",
    "    with open(label_path, 'r') as f:\n",
    "        lines = f.readlines()\n",
    "        if not lines:\n",
    "            continue\n",
    "\n",
    "        # 假設每張圖只有一個 label，但我們要做成 multi-hot 格式\n",
    "        label = int(lines[0].split()[0])\n",
    "        multi_hot = [0] * NUM_CLASSES\n",
    "        multi_hot[label] = 1\n",
    "\n",
    "        data.append([img_file, label, multi_hot])\n",
    "\n",
    "# 儲存成 CSV\n",
    "df = pd.DataFrame(data, columns=[\"filename\", \"class\", \"multi_hot\"])\n",
    "df.to_csv(os.path.join(train_path, \"valid_labels.csv\"), index=False)\n",
    "print(\"CSV with multi-hot saved.\")\n"
   ]
  }
 ],
 "metadata": {
  "kernelspec": {
   "display_name": "NTU_ML",
   "language": "python",
   "name": "python3"
  },
  "language_info": {
   "codemirror_mode": {
    "name": "ipython",
    "version": 3
   },
   "file_extension": ".py",
   "mimetype": "text/x-python",
   "name": "python",
   "nbconvert_exporter": "python",
   "pygments_lexer": "ipython3",
   "version": "3.10.16"
  }
 },
 "nbformat": 4,
 "nbformat_minor": 5
}
